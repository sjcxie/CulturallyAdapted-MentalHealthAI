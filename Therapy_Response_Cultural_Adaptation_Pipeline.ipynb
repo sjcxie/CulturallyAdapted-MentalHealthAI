{
  "nbformat": 4,
  "nbformat_minor": 0,
  "metadata": {
    "colab": {
      "provenance": [],
      "collapsed_sections": [
        "3BPFt3vo0jQp",
        "FAka-BcH7IWO",
        "oELWF7_jC9HS"
      ],
      "authorship_tag": "ABX9TyPkon4v1qtM0HKVl4ACk7V7",
      "include_colab_link": true
    },
    "kernelspec": {
      "name": "python3",
      "display_name": "Python 3"
    },
    "language_info": {
      "name": "python"
    }
  },
  "cells": [
    {
      "cell_type": "markdown",
      "metadata": {
        "id": "view-in-github",
        "colab_type": "text"
      },
      "source": [
        "<a href=\"https://colab.research.google.com/github/sjcxie/CulturallyAdapted-MentalHealthAI/blob/master/Therapy_Response_Cultural_Adaptation_Pipeline.ipynb\" target=\"_parent\"><img src=\"https://colab.research.google.com/assets/colab-badge.svg\" alt=\"Open In Colab\"/></a>"
      ]
    },
    {
      "cell_type": "code",
      "source": [
        "!pip install --q crewai"
      ],
      "metadata": {
        "id": "zkwS3hT8q0PM"
      },
      "execution_count": null,
      "outputs": []
    },
    {
      "cell_type": "code",
      "source": [
        "!pip install 'crewai[tools]'"
      ],
      "metadata": {
        "colab": {
          "base_uri": "https://localhost:8080/"
        },
        "id": "azqxXWt74lPs",
        "outputId": "479bb824-6d99-44f6-840a-eb78f5fa85e8"
      },
      "execution_count": null,
      "outputs": [
        {
          "output_type": "stream",
          "name": "stdout",
          "text": [
            "Requirement already satisfied: crewai[tools] in /usr/local/lib/python3.11/dist-packages (0.102.0)\n",
            "Requirement already satisfied: appdirs>=1.4.4 in /usr/local/lib/python3.11/dist-packages (from crewai[tools]) (1.4.4)\n",
            "Requirement already satisfied: auth0-python>=4.7.1 in /usr/local/lib/python3.11/dist-packages (from crewai[tools]) (4.8.1)\n",
            "Requirement already satisfied: blinker>=1.9.0 in /usr/local/lib/python3.11/dist-packages (from crewai[tools]) (1.9.0)\n",
            "Requirement already satisfied: chromadb>=0.5.23 in /usr/local/lib/python3.11/dist-packages (from crewai[tools]) (0.5.23)\n",
            "Requirement already satisfied: click>=8.1.7 in /usr/local/lib/python3.11/dist-packages (from crewai[tools]) (8.1.8)\n",
            "Requirement already satisfied: instructor>=1.3.3 in /usr/local/lib/python3.11/dist-packages (from crewai[tools]) (1.7.3)\n",
            "Requirement already satisfied: json-repair>=0.25.2 in /usr/local/lib/python3.11/dist-packages (from crewai[tools]) (0.39.1)\n",
            "Requirement already satisfied: json5>=0.10.0 in /usr/local/lib/python3.11/dist-packages (from crewai[tools]) (0.10.0)\n",
            "Requirement already satisfied: jsonref>=1.1.0 in /usr/local/lib/python3.11/dist-packages (from crewai[tools]) (1.1.0)\n",
            "Requirement already satisfied: litellm==1.60.2 in /usr/local/lib/python3.11/dist-packages (from crewai[tools]) (1.60.2)\n",
            "Requirement already satisfied: openai>=1.13.3 in /usr/local/lib/python3.11/dist-packages (from crewai[tools]) (1.61.1)\n",
            "Requirement already satisfied: openpyxl>=3.1.5 in /usr/local/lib/python3.11/dist-packages (from crewai[tools]) (3.1.5)\n",
            "Requirement already satisfied: opentelemetry-api>=1.22.0 in /usr/local/lib/python3.11/dist-packages (from crewai[tools]) (1.30.0)\n",
            "Requirement already satisfied: opentelemetry-exporter-otlp-proto-http>=1.22.0 in /usr/local/lib/python3.11/dist-packages (from crewai[tools]) (1.30.0)\n",
            "Requirement already satisfied: opentelemetry-sdk>=1.22.0 in /usr/local/lib/python3.11/dist-packages (from crewai[tools]) (1.30.0)\n",
            "Requirement already satisfied: pdfplumber>=0.11.4 in /usr/local/lib/python3.11/dist-packages (from crewai[tools]) (0.11.5)\n",
            "Requirement already satisfied: pydantic>=2.4.2 in /usr/local/lib/python3.11/dist-packages (from crewai[tools]) (2.10.6)\n",
            "Requirement already satisfied: python-dotenv>=1.0.0 in /usr/local/lib/python3.11/dist-packages (from crewai[tools]) (1.0.1)\n",
            "Requirement already satisfied: pyvis>=0.3.2 in /usr/local/lib/python3.11/dist-packages (from crewai[tools]) (0.3.2)\n",
            "Requirement already satisfied: regex>=2024.9.11 in /usr/local/lib/python3.11/dist-packages (from crewai[tools]) (2024.11.6)\n",
            "Requirement already satisfied: tomli-w>=1.1.0 in /usr/local/lib/python3.11/dist-packages (from crewai[tools]) (1.2.0)\n",
            "Requirement already satisfied: tomli>=2.0.2 in /usr/local/lib/python3.11/dist-packages (from crewai[tools]) (2.2.1)\n",
            "Requirement already satisfied: uv>=0.4.25 in /usr/local/lib/python3.11/dist-packages (from crewai[tools]) (0.6.5)\n",
            "Requirement already satisfied: crewai-tools>=0.36.0 in /usr/local/lib/python3.11/dist-packages (from crewai[tools]) (0.36.0)\n",
            "Requirement already satisfied: aiohttp in /usr/local/lib/python3.11/dist-packages (from litellm==1.60.2->crewai[tools]) (3.11.13)\n",
            "Requirement already satisfied: httpx<0.28.0,>=0.23.0 in /usr/local/lib/python3.11/dist-packages (from litellm==1.60.2->crewai[tools]) (0.27.2)\n",
            "Requirement already satisfied: importlib-metadata>=6.8.0 in /usr/local/lib/python3.11/dist-packages (from litellm==1.60.2->crewai[tools]) (8.5.0)\n",
            "Requirement already satisfied: jinja2<4.0.0,>=3.1.2 in /usr/local/lib/python3.11/dist-packages (from litellm==1.60.2->crewai[tools]) (3.1.5)\n",
            "Requirement already satisfied: jsonschema<5.0.0,>=4.22.0 in /usr/local/lib/python3.11/dist-packages (from litellm==1.60.2->crewai[tools]) (4.23.0)\n",
            "Requirement already satisfied: tiktoken>=0.7.0 in /usr/local/lib/python3.11/dist-packages (from litellm==1.60.2->crewai[tools]) (0.7.0)\n",
            "Requirement already satisfied: tokenizers in /usr/local/lib/python3.11/dist-packages (from litellm==1.60.2->crewai[tools]) (0.20.3)\n",
            "Requirement already satisfied: cryptography>=43.0.1 in /usr/local/lib/python3.11/dist-packages (from auth0-python>=4.7.1->crewai[tools]) (43.0.3)\n",
            "Requirement already satisfied: pyjwt>=2.8.0 in /usr/local/lib/python3.11/dist-packages (from auth0-python>=4.7.1->crewai[tools]) (2.10.1)\n",
            "Requirement already satisfied: requests>=2.32.3 in /usr/local/lib/python3.11/dist-packages (from auth0-python>=4.7.1->crewai[tools]) (2.32.3)\n",
            "Requirement already satisfied: urllib3>=2.2.3 in /usr/local/lib/python3.11/dist-packages (from auth0-python>=4.7.1->crewai[tools]) (2.3.0)\n",
            "Requirement already satisfied: build>=1.0.3 in /usr/local/lib/python3.11/dist-packages (from chromadb>=0.5.23->crewai[tools]) (1.2.2.post1)\n",
            "Requirement already satisfied: chroma-hnswlib==0.7.6 in /usr/local/lib/python3.11/dist-packages (from chromadb>=0.5.23->crewai[tools]) (0.7.6)\n",
            "Requirement already satisfied: fastapi>=0.95.2 in /usr/local/lib/python3.11/dist-packages (from chromadb>=0.5.23->crewai[tools]) (0.115.11)\n",
            "Requirement already satisfied: uvicorn>=0.18.3 in /usr/local/lib/python3.11/dist-packages (from uvicorn[standard]>=0.18.3->chromadb>=0.5.23->crewai[tools]) (0.34.0)\n",
            "Requirement already satisfied: numpy>=1.22.5 in /usr/local/lib/python3.11/dist-packages (from chromadb>=0.5.23->crewai[tools]) (1.26.4)\n",
            "Requirement already satisfied: posthog>=2.4.0 in /usr/local/lib/python3.11/dist-packages (from chromadb>=0.5.23->crewai[tools]) (3.19.0)\n",
            "Requirement already satisfied: typing_extensions>=4.5.0 in /usr/local/lib/python3.11/dist-packages (from chromadb>=0.5.23->crewai[tools]) (4.12.2)\n",
            "Requirement already satisfied: onnxruntime>=1.14.1 in /usr/local/lib/python3.11/dist-packages (from chromadb>=0.5.23->crewai[tools]) (1.20.1)\n",
            "Requirement already satisfied: opentelemetry-exporter-otlp-proto-grpc>=1.2.0 in /usr/local/lib/python3.11/dist-packages (from chromadb>=0.5.23->crewai[tools]) (1.30.0)\n",
            "Requirement already satisfied: opentelemetry-instrumentation-fastapi>=0.41b0 in /usr/local/lib/python3.11/dist-packages (from chromadb>=0.5.23->crewai[tools]) (0.51b0)\n",
            "Requirement already satisfied: pypika>=0.48.9 in /usr/local/lib/python3.11/dist-packages (from chromadb>=0.5.23->crewai[tools]) (0.48.9)\n",
            "Requirement already satisfied: tqdm>=4.65.0 in /usr/local/lib/python3.11/dist-packages (from chromadb>=0.5.23->crewai[tools]) (4.67.1)\n",
            "Requirement already satisfied: overrides>=7.3.1 in /usr/local/lib/python3.11/dist-packages (from chromadb>=0.5.23->crewai[tools]) (7.7.0)\n",
            "Requirement already satisfied: importlib-resources in /usr/local/lib/python3.11/dist-packages (from chromadb>=0.5.23->crewai[tools]) (6.5.2)\n",
            "Requirement already satisfied: grpcio>=1.58.0 in /usr/local/lib/python3.11/dist-packages (from chromadb>=0.5.23->crewai[tools]) (1.70.0)\n",
            "Requirement already satisfied: bcrypt>=4.0.1 in /usr/local/lib/python3.11/dist-packages (from chromadb>=0.5.23->crewai[tools]) (4.3.0)\n",
            "Requirement already satisfied: typer>=0.9.0 in /usr/local/lib/python3.11/dist-packages (from chromadb>=0.5.23->crewai[tools]) (0.15.2)\n",
            "Requirement already satisfied: kubernetes>=28.1.0 in /usr/local/lib/python3.11/dist-packages (from chromadb>=0.5.23->crewai[tools]) (32.0.1)\n",
            "Requirement already satisfied: tenacity>=8.2.3 in /usr/local/lib/python3.11/dist-packages (from chromadb>=0.5.23->crewai[tools]) (9.0.0)\n",
            "Requirement already satisfied: PyYAML>=6.0.0 in /usr/local/lib/python3.11/dist-packages (from chromadb>=0.5.23->crewai[tools]) (6.0.2)\n",
            "Requirement already satisfied: mmh3>=4.0.1 in /usr/local/lib/python3.11/dist-packages (from chromadb>=0.5.23->crewai[tools]) (5.1.0)\n",
            "Requirement already satisfied: orjson>=3.9.12 in /usr/local/lib/python3.11/dist-packages (from chromadb>=0.5.23->crewai[tools]) (3.10.15)\n",
            "Requirement already satisfied: rich>=10.11.0 in /usr/local/lib/python3.11/dist-packages (from chromadb>=0.5.23->crewai[tools]) (13.9.4)\n",
            "Requirement already satisfied: docker>=7.1.0 in /usr/local/lib/python3.11/dist-packages (from crewai-tools>=0.36.0->crewai[tools]) (7.1.0)\n",
            "Requirement already satisfied: embedchain>=0.1.114 in /usr/local/lib/python3.11/dist-packages (from crewai-tools>=0.36.0->crewai[tools]) (0.1.127)\n",
            "Requirement already satisfied: lancedb>=0.5.4 in /usr/local/lib/python3.11/dist-packages (from crewai-tools>=0.36.0->crewai[tools]) (0.20.0)\n",
            "Requirement already satisfied: pyright>=1.1.350 in /usr/local/lib/python3.11/dist-packages (from crewai-tools>=0.36.0->crewai[tools]) (1.1.396)\n",
            "Requirement already satisfied: pytube>=15.0.0 in /usr/local/lib/python3.11/dist-packages (from crewai-tools>=0.36.0->crewai[tools]) (15.0.0)\n",
            "Requirement already satisfied: docstring-parser<1.0,>=0.16 in /usr/local/lib/python3.11/dist-packages (from instructor>=1.3.3->crewai[tools]) (0.16)\n",
            "Requirement already satisfied: jiter<0.9,>=0.6.1 in /usr/local/lib/python3.11/dist-packages (from instructor>=1.3.3->crewai[tools]) (0.8.2)\n",
            "Requirement already satisfied: pydantic-core<3.0.0,>=2.18.0 in /usr/local/lib/python3.11/dist-packages (from instructor>=1.3.3->crewai[tools]) (2.27.2)\n",
            "Requirement already satisfied: anyio<5,>=3.5.0 in /usr/local/lib/python3.11/dist-packages (from openai>=1.13.3->crewai[tools]) (3.7.1)\n",
            "Requirement already satisfied: distro<2,>=1.7.0 in /usr/local/lib/python3.11/dist-packages (from openai>=1.13.3->crewai[tools]) (1.9.0)\n",
            "Requirement already satisfied: sniffio in /usr/local/lib/python3.11/dist-packages (from openai>=1.13.3->crewai[tools]) (1.3.1)\n",
            "Requirement already satisfied: et-xmlfile in /usr/local/lib/python3.11/dist-packages (from openpyxl>=3.1.5->crewai[tools]) (2.0.0)\n",
            "Requirement already satisfied: deprecated>=1.2.6 in /usr/local/lib/python3.11/dist-packages (from opentelemetry-api>=1.22.0->crewai[tools]) (1.2.18)\n",
            "Requirement already satisfied: googleapis-common-protos~=1.52 in /usr/local/lib/python3.11/dist-packages (from opentelemetry-exporter-otlp-proto-http>=1.22.0->crewai[tools]) (1.69.0)\n",
            "Requirement already satisfied: opentelemetry-exporter-otlp-proto-common==1.30.0 in /usr/local/lib/python3.11/dist-packages (from opentelemetry-exporter-otlp-proto-http>=1.22.0->crewai[tools]) (1.30.0)\n",
            "Requirement already satisfied: opentelemetry-proto==1.30.0 in /usr/local/lib/python3.11/dist-packages (from opentelemetry-exporter-otlp-proto-http>=1.22.0->crewai[tools]) (1.30.0)\n",
            "Requirement already satisfied: protobuf<6.0,>=5.0 in /usr/local/lib/python3.11/dist-packages (from opentelemetry-proto==1.30.0->opentelemetry-exporter-otlp-proto-http>=1.22.0->crewai[tools]) (5.29.3)\n",
            "Requirement already satisfied: opentelemetry-semantic-conventions==0.51b0 in /usr/local/lib/python3.11/dist-packages (from opentelemetry-sdk>=1.22.0->crewai[tools]) (0.51b0)\n",
            "Requirement already satisfied: pdfminer.six==20231228 in /usr/local/lib/python3.11/dist-packages (from pdfplumber>=0.11.4->crewai[tools]) (20231228)\n",
            "Requirement already satisfied: Pillow>=9.1 in /usr/local/lib/python3.11/dist-packages (from pdfplumber>=0.11.4->crewai[tools]) (11.1.0)\n",
            "Requirement already satisfied: pypdfium2>=4.18.0 in /usr/local/lib/python3.11/dist-packages (from pdfplumber>=0.11.4->crewai[tools]) (4.30.1)\n",
            "Requirement already satisfied: charset-normalizer>=2.0.0 in /usr/local/lib/python3.11/dist-packages (from pdfminer.six==20231228->pdfplumber>=0.11.4->crewai[tools]) (3.4.1)\n",
            "Requirement already satisfied: annotated-types>=0.6.0 in /usr/local/lib/python3.11/dist-packages (from pydantic>=2.4.2->crewai[tools]) (0.7.0)\n",
            "Requirement already satisfied: ipython>=5.3.0 in /usr/local/lib/python3.11/dist-packages (from pyvis>=0.3.2->crewai[tools]) (7.34.0)\n",
            "Requirement already satisfied: jsonpickle>=1.4.1 in /usr/local/lib/python3.11/dist-packages (from pyvis>=0.3.2->crewai[tools]) (4.0.2)\n",
            "Requirement already satisfied: networkx>=1.11 in /usr/local/lib/python3.11/dist-packages (from pyvis>=0.3.2->crewai[tools]) (3.4.2)\n",
            "Requirement already satisfied: aiohappyeyeballs>=2.3.0 in /usr/local/lib/python3.11/dist-packages (from aiohttp->litellm==1.60.2->crewai[tools]) (2.4.6)\n",
            "Requirement already satisfied: aiosignal>=1.1.2 in /usr/local/lib/python3.11/dist-packages (from aiohttp->litellm==1.60.2->crewai[tools]) (1.3.2)\n",
            "Requirement already satisfied: attrs>=17.3.0 in /usr/local/lib/python3.11/dist-packages (from aiohttp->litellm==1.60.2->crewai[tools]) (25.1.0)\n",
            "Requirement already satisfied: frozenlist>=1.1.1 in /usr/local/lib/python3.11/dist-packages (from aiohttp->litellm==1.60.2->crewai[tools]) (1.5.0)\n",
            "Requirement already satisfied: multidict<7.0,>=4.5 in /usr/local/lib/python3.11/dist-packages (from aiohttp->litellm==1.60.2->crewai[tools]) (6.1.0)\n",
            "Requirement already satisfied: propcache>=0.2.0 in /usr/local/lib/python3.11/dist-packages (from aiohttp->litellm==1.60.2->crewai[tools]) (0.3.0)\n",
            "Requirement already satisfied: yarl<2.0,>=1.17.0 in /usr/local/lib/python3.11/dist-packages (from aiohttp->litellm==1.60.2->crewai[tools]) (1.18.3)\n",
            "Requirement already satisfied: idna>=2.8 in /usr/local/lib/python3.11/dist-packages (from anyio<5,>=3.5.0->openai>=1.13.3->crewai[tools]) (3.10)\n",
            "Requirement already satisfied: packaging>=19.1 in /usr/local/lib/python3.11/dist-packages (from build>=1.0.3->chromadb>=0.5.23->crewai[tools]) (24.2)\n",
            "Requirement already satisfied: pyproject_hooks in /usr/local/lib/python3.11/dist-packages (from build>=1.0.3->chromadb>=0.5.23->crewai[tools]) (1.2.0)\n",
            "Requirement already satisfied: cffi>=1.12 in /usr/local/lib/python3.11/dist-packages (from cryptography>=43.0.1->auth0-python>=4.7.1->crewai[tools]) (1.17.1)\n",
            "Requirement already satisfied: wrapt<2,>=1.10 in /usr/local/lib/python3.11/dist-packages (from deprecated>=1.2.6->opentelemetry-api>=1.22.0->crewai[tools]) (1.17.2)\n",
            "Requirement already satisfied: alembic<2.0.0,>=1.13.1 in /usr/local/lib/python3.11/dist-packages (from embedchain>=0.1.114->crewai-tools>=0.36.0->crewai[tools]) (1.15.1)\n",
            "Requirement already satisfied: beautifulsoup4<5.0.0,>=4.12.2 in /usr/local/lib/python3.11/dist-packages (from embedchain>=0.1.114->crewai-tools>=0.36.0->crewai[tools]) (4.13.3)\n",
            "Requirement already satisfied: cohere<6.0,>=5.3 in /usr/local/lib/python3.11/dist-packages (from embedchain>=0.1.114->crewai-tools>=0.36.0->crewai[tools]) (5.14.0)\n",
            "Requirement already satisfied: google-cloud-aiplatform<2.0.0,>=1.26.1 in /usr/local/lib/python3.11/dist-packages (from embedchain>=0.1.114->crewai-tools>=0.36.0->crewai[tools]) (1.79.0)\n",
            "Requirement already satisfied: gptcache<0.2.0,>=0.1.43 in /usr/local/lib/python3.11/dist-packages (from embedchain>=0.1.114->crewai-tools>=0.36.0->crewai[tools]) (0.1.44)\n",
            "Requirement already satisfied: langchain<0.4.0,>=0.3.1 in /usr/local/lib/python3.11/dist-packages (from embedchain>=0.1.114->crewai-tools>=0.36.0->crewai[tools]) (0.3.20)\n",
            "Requirement already satisfied: langchain-cohere<0.4.0,>=0.3.0 in /usr/local/lib/python3.11/dist-packages (from embedchain>=0.1.114->crewai-tools>=0.36.0->crewai[tools]) (0.3.5)\n",
            "Requirement already satisfied: langchain-community<0.4.0,>=0.3.1 in /usr/local/lib/python3.11/dist-packages (from embedchain>=0.1.114->crewai-tools>=0.36.0->crewai[tools]) (0.3.19)\n",
            "Requirement already satisfied: langchain-openai<0.3.0,>=0.2.1 in /usr/local/lib/python3.11/dist-packages (from embedchain>=0.1.114->crewai-tools>=0.36.0->crewai[tools]) (0.2.14)\n",
            "Requirement already satisfied: langsmith<0.2.0,>=0.1.17 in /usr/local/lib/python3.11/dist-packages (from embedchain>=0.1.114->crewai-tools>=0.36.0->crewai[tools]) (0.1.147)\n",
            "Requirement already satisfied: mem0ai<0.2.0,>=0.1.54 in /usr/local/lib/python3.11/dist-packages (from embedchain>=0.1.114->crewai-tools>=0.36.0->crewai[tools]) (0.1.65)\n",
            "Requirement already satisfied: pypdf<6.0.0,>=5.0.0 in /usr/local/lib/python3.11/dist-packages (from embedchain>=0.1.114->crewai-tools>=0.36.0->crewai[tools]) (5.3.1)\n",
            "Requirement already satisfied: pysbd<0.4.0,>=0.3.4 in /usr/local/lib/python3.11/dist-packages (from embedchain>=0.1.114->crewai-tools>=0.36.0->crewai[tools]) (0.3.4)\n",
            "Requirement already satisfied: schema<0.8.0,>=0.7.5 in /usr/local/lib/python3.11/dist-packages (from embedchain>=0.1.114->crewai-tools>=0.36.0->crewai[tools]) (0.7.7)\n",
            "Requirement already satisfied: sqlalchemy<3.0.0,>=2.0.27 in /usr/local/lib/python3.11/dist-packages (from embedchain>=0.1.114->crewai-tools>=0.36.0->crewai[tools]) (2.0.38)\n",
            "Requirement already satisfied: starlette<0.47.0,>=0.40.0 in /usr/local/lib/python3.11/dist-packages (from fastapi>=0.95.2->chromadb>=0.5.23->crewai[tools]) (0.46.0)\n",
            "Requirement already satisfied: certifi in /usr/local/lib/python3.11/dist-packages (from httpx<0.28.0,>=0.23.0->litellm==1.60.2->crewai[tools]) (2025.1.31)\n",
            "Requirement already satisfied: httpcore==1.* in /usr/local/lib/python3.11/dist-packages (from httpx<0.28.0,>=0.23.0->litellm==1.60.2->crewai[tools]) (1.0.7)\n",
            "Requirement already satisfied: h11<0.15,>=0.13 in /usr/local/lib/python3.11/dist-packages (from httpcore==1.*->httpx<0.28.0,>=0.23.0->litellm==1.60.2->crewai[tools]) (0.14.0)\n",
            "Requirement already satisfied: zipp>=3.20 in /usr/local/lib/python3.11/dist-packages (from importlib-metadata>=6.8.0->litellm==1.60.2->crewai[tools]) (3.21.0)\n",
            "Requirement already satisfied: setuptools>=18.5 in /usr/local/lib/python3.11/dist-packages (from ipython>=5.3.0->pyvis>=0.3.2->crewai[tools]) (75.1.0)\n",
            "Requirement already satisfied: jedi>=0.16 in /usr/local/lib/python3.11/dist-packages (from ipython>=5.3.0->pyvis>=0.3.2->crewai[tools]) (0.19.2)\n",
            "Requirement already satisfied: decorator in /usr/local/lib/python3.11/dist-packages (from ipython>=5.3.0->pyvis>=0.3.2->crewai[tools]) (4.4.2)\n",
            "Requirement already satisfied: pickleshare in /usr/local/lib/python3.11/dist-packages (from ipython>=5.3.0->pyvis>=0.3.2->crewai[tools]) (0.7.5)\n",
            "Requirement already satisfied: traitlets>=4.2 in /usr/local/lib/python3.11/dist-packages (from ipython>=5.3.0->pyvis>=0.3.2->crewai[tools]) (5.7.1)\n",
            "Requirement already satisfied: prompt-toolkit!=3.0.0,!=3.0.1,<3.1.0,>=2.0.0 in /usr/local/lib/python3.11/dist-packages (from ipython>=5.3.0->pyvis>=0.3.2->crewai[tools]) (3.0.50)\n",
            "Requirement already satisfied: pygments in /usr/local/lib/python3.11/dist-packages (from ipython>=5.3.0->pyvis>=0.3.2->crewai[tools]) (2.18.0)\n",
            "Requirement already satisfied: backcall in /usr/local/lib/python3.11/dist-packages (from ipython>=5.3.0->pyvis>=0.3.2->crewai[tools]) (0.2.0)\n",
            "Requirement already satisfied: matplotlib-inline in /usr/local/lib/python3.11/dist-packages (from ipython>=5.3.0->pyvis>=0.3.2->crewai[tools]) (0.1.7)\n",
            "Requirement already satisfied: pexpect>4.3 in /usr/local/lib/python3.11/dist-packages (from ipython>=5.3.0->pyvis>=0.3.2->crewai[tools]) (4.9.0)\n",
            "Requirement already satisfied: MarkupSafe>=2.0 in /usr/local/lib/python3.11/dist-packages (from jinja2<4.0.0,>=3.1.2->litellm==1.60.2->crewai[tools]) (3.0.2)\n",
            "Requirement already satisfied: jsonschema-specifications>=2023.03.6 in /usr/local/lib/python3.11/dist-packages (from jsonschema<5.0.0,>=4.22.0->litellm==1.60.2->crewai[tools]) (2024.10.1)\n",
            "Requirement already satisfied: referencing>=0.28.4 in /usr/local/lib/python3.11/dist-packages (from jsonschema<5.0.0,>=4.22.0->litellm==1.60.2->crewai[tools]) (0.36.2)\n",
            "Requirement already satisfied: rpds-py>=0.7.1 in /usr/local/lib/python3.11/dist-packages (from jsonschema<5.0.0,>=4.22.0->litellm==1.60.2->crewai[tools]) (0.23.1)\n",
            "Requirement already satisfied: six>=1.9.0 in /usr/local/lib/python3.11/dist-packages (from kubernetes>=28.1.0->chromadb>=0.5.23->crewai[tools]) (1.17.0)\n",
            "Requirement already satisfied: python-dateutil>=2.5.3 in /usr/local/lib/python3.11/dist-packages (from kubernetes>=28.1.0->chromadb>=0.5.23->crewai[tools]) (2.8.2)\n",
            "Requirement already satisfied: google-auth>=1.0.1 in /usr/local/lib/python3.11/dist-packages (from kubernetes>=28.1.0->chromadb>=0.5.23->crewai[tools]) (2.38.0)\n",
            "Requirement already satisfied: websocket-client!=0.40.0,!=0.41.*,!=0.42.*,>=0.32.0 in /usr/local/lib/python3.11/dist-packages (from kubernetes>=28.1.0->chromadb>=0.5.23->crewai[tools]) (1.8.0)\n",
            "Requirement already satisfied: requests-oauthlib in /usr/local/lib/python3.11/dist-packages (from kubernetes>=28.1.0->chromadb>=0.5.23->crewai[tools]) (2.0.0)\n",
            "Requirement already satisfied: oauthlib>=3.2.2 in /usr/local/lib/python3.11/dist-packages (from kubernetes>=28.1.0->chromadb>=0.5.23->crewai[tools]) (3.2.2)\n",
            "Requirement already satisfied: durationpy>=0.7 in /usr/local/lib/python3.11/dist-packages (from kubernetes>=28.1.0->chromadb>=0.5.23->crewai[tools]) (0.9)\n",
            "Requirement already satisfied: deprecation in /usr/local/lib/python3.11/dist-packages (from lancedb>=0.5.4->crewai-tools>=0.36.0->crewai[tools]) (2.1.0)\n",
            "Requirement already satisfied: pylance~=0.23.2 in /usr/local/lib/python3.11/dist-packages (from lancedb>=0.5.4->crewai-tools>=0.36.0->crewai[tools]) (0.23.2)\n",
            "Requirement already satisfied: coloredlogs in /usr/local/lib/python3.11/dist-packages (from onnxruntime>=1.14.1->chromadb>=0.5.23->crewai[tools]) (15.0.1)\n",
            "Requirement already satisfied: flatbuffers in /usr/local/lib/python3.11/dist-packages (from onnxruntime>=1.14.1->chromadb>=0.5.23->crewai[tools]) (25.2.10)\n",
            "Requirement already satisfied: sympy in /usr/local/lib/python3.11/dist-packages (from onnxruntime>=1.14.1->chromadb>=0.5.23->crewai[tools]) (1.13.1)\n",
            "Requirement already satisfied: opentelemetry-instrumentation-asgi==0.51b0 in /usr/local/lib/python3.11/dist-packages (from opentelemetry-instrumentation-fastapi>=0.41b0->chromadb>=0.5.23->crewai[tools]) (0.51b0)\n",
            "Requirement already satisfied: opentelemetry-instrumentation==0.51b0 in /usr/local/lib/python3.11/dist-packages (from opentelemetry-instrumentation-fastapi>=0.41b0->chromadb>=0.5.23->crewai[tools]) (0.51b0)\n",
            "Requirement already satisfied: opentelemetry-util-http==0.51b0 in /usr/local/lib/python3.11/dist-packages (from opentelemetry-instrumentation-fastapi>=0.41b0->chromadb>=0.5.23->crewai[tools]) (0.51b0)\n",
            "Requirement already satisfied: asgiref~=3.0 in /usr/local/lib/python3.11/dist-packages (from opentelemetry-instrumentation-asgi==0.51b0->opentelemetry-instrumentation-fastapi>=0.41b0->chromadb>=0.5.23->crewai[tools]) (3.8.1)\n",
            "Requirement already satisfied: monotonic>=1.5 in /usr/local/lib/python3.11/dist-packages (from posthog>=2.4.0->chromadb>=0.5.23->crewai[tools]) (1.6)\n",
            "Requirement already satisfied: backoff>=1.10.0 in /usr/local/lib/python3.11/dist-packages (from posthog>=2.4.0->chromadb>=0.5.23->crewai[tools]) (2.2.1)\n",
            "Requirement already satisfied: nodeenv>=1.6.0 in /usr/local/lib/python3.11/dist-packages (from pyright>=1.1.350->crewai-tools>=0.36.0->crewai[tools]) (1.9.1)\n",
            "Requirement already satisfied: markdown-it-py>=2.2.0 in /usr/local/lib/python3.11/dist-packages (from rich>=10.11.0->chromadb>=0.5.23->crewai[tools]) (3.0.0)\n",
            "Requirement already satisfied: huggingface-hub<1.0,>=0.16.4 in /usr/local/lib/python3.11/dist-packages (from tokenizers->litellm==1.60.2->crewai[tools]) (0.28.1)\n",
            "Requirement already satisfied: shellingham>=1.3.0 in /usr/local/lib/python3.11/dist-packages (from typer>=0.9.0->chromadb>=0.5.23->crewai[tools]) (1.5.4)\n",
            "Requirement already satisfied: httptools>=0.6.3 in /usr/local/lib/python3.11/dist-packages (from uvicorn[standard]>=0.18.3->chromadb>=0.5.23->crewai[tools]) (0.6.4)\n",
            "Requirement already satisfied: uvloop!=0.15.0,!=0.15.1,>=0.14.0 in /usr/local/lib/python3.11/dist-packages (from uvicorn[standard]>=0.18.3->chromadb>=0.5.23->crewai[tools]) (0.21.0)\n",
            "Requirement already satisfied: watchfiles>=0.13 in /usr/local/lib/python3.11/dist-packages (from uvicorn[standard]>=0.18.3->chromadb>=0.5.23->crewai[tools]) (1.0.4)\n",
            "Requirement already satisfied: websockets>=10.4 in /usr/local/lib/python3.11/dist-packages (from uvicorn[standard]>=0.18.3->chromadb>=0.5.23->crewai[tools]) (14.2)\n",
            "Requirement already satisfied: Mako in /usr/local/lib/python3.11/dist-packages (from alembic<2.0.0,>=1.13.1->embedchain>=0.1.114->crewai-tools>=0.36.0->crewai[tools]) (1.3.9)\n",
            "Requirement already satisfied: soupsieve>1.2 in /usr/local/lib/python3.11/dist-packages (from beautifulsoup4<5.0.0,>=4.12.2->embedchain>=0.1.114->crewai-tools>=0.36.0->crewai[tools]) (2.6)\n",
            "Requirement already satisfied: pycparser in /usr/local/lib/python3.11/dist-packages (from cffi>=1.12->cryptography>=43.0.1->auth0-python>=4.7.1->crewai[tools]) (2.22)\n",
            "Requirement already satisfied: fastavro<2.0.0,>=1.9.4 in /usr/local/lib/python3.11/dist-packages (from cohere<6.0,>=5.3->embedchain>=0.1.114->crewai-tools>=0.36.0->crewai[tools]) (1.10.0)\n",
            "Requirement already satisfied: httpx-sse==0.4.0 in /usr/local/lib/python3.11/dist-packages (from cohere<6.0,>=5.3->embedchain>=0.1.114->crewai-tools>=0.36.0->crewai[tools]) (0.4.0)\n",
            "Requirement already satisfied: types-requests<3.0.0,>=2.0.0 in /usr/local/lib/python3.11/dist-packages (from cohere<6.0,>=5.3->embedchain>=0.1.114->crewai-tools>=0.36.0->crewai[tools]) (2.32.0.20250306)\n",
            "Requirement already satisfied: cachetools<6.0,>=2.0.0 in /usr/local/lib/python3.11/dist-packages (from google-auth>=1.0.1->kubernetes>=28.1.0->chromadb>=0.5.23->crewai[tools]) (5.5.2)\n",
            "Requirement already satisfied: pyasn1-modules>=0.2.1 in /usr/local/lib/python3.11/dist-packages (from google-auth>=1.0.1->kubernetes>=28.1.0->chromadb>=0.5.23->crewai[tools]) (0.4.1)\n",
            "Requirement already satisfied: rsa<5,>=3.1.4 in /usr/local/lib/python3.11/dist-packages (from google-auth>=1.0.1->kubernetes>=28.1.0->chromadb>=0.5.23->crewai[tools]) (4.9)\n",
            "Requirement already satisfied: google-api-core!=2.0.*,!=2.1.*,!=2.2.*,!=2.3.*,!=2.4.*,!=2.5.*,!=2.6.*,!=2.7.*,<3.0.0dev,>=1.34.1 in /usr/local/lib/python3.11/dist-packages (from google-api-core[grpc]!=2.0.*,!=2.1.*,!=2.2.*,!=2.3.*,!=2.4.*,!=2.5.*,!=2.6.*,!=2.7.*,<3.0.0dev,>=1.34.1->google-cloud-aiplatform<2.0.0,>=1.26.1->embedchain>=0.1.114->crewai-tools>=0.36.0->crewai[tools]) (2.24.1)\n",
            "Requirement already satisfied: proto-plus<2.0.0dev,>=1.22.3 in /usr/local/lib/python3.11/dist-packages (from google-cloud-aiplatform<2.0.0,>=1.26.1->embedchain>=0.1.114->crewai-tools>=0.36.0->crewai[tools]) (1.26.0)\n",
            "Requirement already satisfied: google-cloud-storage<3.0.0dev,>=1.32.0 in /usr/local/lib/python3.11/dist-packages (from google-cloud-aiplatform<2.0.0,>=1.26.1->embedchain>=0.1.114->crewai-tools>=0.36.0->crewai[tools]) (2.19.0)\n",
            "Requirement already satisfied: google-cloud-bigquery!=3.20.0,<4.0.0dev,>=1.15.0 in /usr/local/lib/python3.11/dist-packages (from google-cloud-aiplatform<2.0.0,>=1.26.1->embedchain>=0.1.114->crewai-tools>=0.36.0->crewai[tools]) (3.29.0)\n",
            "Requirement already satisfied: google-cloud-resource-manager<3.0.0dev,>=1.3.3 in /usr/local/lib/python3.11/dist-packages (from google-cloud-aiplatform<2.0.0,>=1.26.1->embedchain>=0.1.114->crewai-tools>=0.36.0->crewai[tools]) (1.14.1)\n",
            "Requirement already satisfied: shapely<3.0.0dev in /usr/local/lib/python3.11/dist-packages (from google-cloud-aiplatform<2.0.0,>=1.26.1->embedchain>=0.1.114->crewai-tools>=0.36.0->crewai[tools]) (2.0.7)\n",
            "Requirement already satisfied: filelock in /usr/local/lib/python3.11/dist-packages (from huggingface-hub<1.0,>=0.16.4->tokenizers->litellm==1.60.2->crewai[tools]) (3.17.0)\n",
            "Requirement already satisfied: fsspec>=2023.5.0 in /usr/local/lib/python3.11/dist-packages (from huggingface-hub<1.0,>=0.16.4->tokenizers->litellm==1.60.2->crewai[tools]) (2024.10.0)\n",
            "Requirement already satisfied: parso<0.9.0,>=0.8.4 in /usr/local/lib/python3.11/dist-packages (from jedi>=0.16->ipython>=5.3.0->pyvis>=0.3.2->crewai[tools]) (0.8.4)\n",
            "Requirement already satisfied: langchain-core<1.0.0,>=0.3.41 in /usr/local/lib/python3.11/dist-packages (from langchain<0.4.0,>=0.3.1->embedchain>=0.1.114->crewai-tools>=0.36.0->crewai[tools]) (0.3.41)\n",
            "Requirement already satisfied: langchain-text-splitters<1.0.0,>=0.3.6 in /usr/local/lib/python3.11/dist-packages (from langchain<0.4.0,>=0.3.1->embedchain>=0.1.114->crewai-tools>=0.36.0->crewai[tools]) (0.3.6)\n",
            "Requirement already satisfied: langchain-experimental<0.4.0,>=0.3.0 in /usr/local/lib/python3.11/dist-packages (from langchain-cohere<0.4.0,>=0.3.0->embedchain>=0.1.114->crewai-tools>=0.36.0->crewai[tools]) (0.3.4)\n",
            "Requirement already satisfied: pandas>=1.4.3 in /usr/local/lib/python3.11/dist-packages (from langchain-cohere<0.4.0,>=0.3.0->embedchain>=0.1.114->crewai-tools>=0.36.0->crewai[tools]) (2.2.2)\n",
            "Requirement already satisfied: tabulate<0.10.0,>=0.9.0 in /usr/local/lib/python3.11/dist-packages (from langchain-cohere<0.4.0,>=0.3.0->embedchain>=0.1.114->crewai-tools>=0.36.0->crewai[tools]) (0.9.0)\n",
            "Requirement already satisfied: dataclasses-json<0.7,>=0.5.7 in /usr/local/lib/python3.11/dist-packages (from langchain-community<0.4.0,>=0.3.1->embedchain>=0.1.114->crewai-tools>=0.36.0->crewai[tools]) (0.6.7)\n",
            "Requirement already satisfied: pydantic-settings<3.0.0,>=2.4.0 in /usr/local/lib/python3.11/dist-packages (from langchain-community<0.4.0,>=0.3.1->embedchain>=0.1.114->crewai-tools>=0.36.0->crewai[tools]) (2.8.1)\n",
            "Requirement already satisfied: requests-toolbelt<2.0.0,>=1.0.0 in /usr/local/lib/python3.11/dist-packages (from langsmith<0.2.0,>=0.1.17->embedchain>=0.1.114->crewai-tools>=0.36.0->crewai[tools]) (1.0.0)\n",
            "Requirement already satisfied: mdurl~=0.1 in /usr/local/lib/python3.11/dist-packages (from markdown-it-py>=2.2.0->rich>=10.11.0->chromadb>=0.5.23->crewai[tools]) (0.1.2)\n",
            "Requirement already satisfied: psycopg2-binary<3.0.0,>=2.9.10 in /usr/local/lib/python3.11/dist-packages (from mem0ai<0.2.0,>=0.1.54->embedchain>=0.1.114->crewai-tools>=0.36.0->crewai[tools]) (2.9.10)\n",
            "Requirement already satisfied: pytz<2025.0,>=2024.1 in /usr/local/lib/python3.11/dist-packages (from mem0ai<0.2.0,>=0.1.54->embedchain>=0.1.114->crewai-tools>=0.36.0->crewai[tools]) (2024.2)\n",
            "Requirement already satisfied: qdrant-client<2.0.0,>=1.9.1 in /usr/local/lib/python3.11/dist-packages (from mem0ai<0.2.0,>=0.1.54->embedchain>=0.1.114->crewai-tools>=0.36.0->crewai[tools]) (1.13.3)\n",
            "Requirement already satisfied: ptyprocess>=0.5 in /usr/local/lib/python3.11/dist-packages (from pexpect>4.3->ipython>=5.3.0->pyvis>=0.3.2->crewai[tools]) (0.7.0)\n",
            "Requirement already satisfied: wcwidth in /usr/local/lib/python3.11/dist-packages (from prompt-toolkit!=3.0.0,!=3.0.1,<3.1.0,>=2.0.0->ipython>=5.3.0->pyvis>=0.3.2->crewai[tools]) (0.2.13)\n",
            "Requirement already satisfied: pyarrow>=14 in /usr/local/lib/python3.11/dist-packages (from pylance~=0.23.2->lancedb>=0.5.4->crewai-tools>=0.36.0->crewai[tools]) (18.1.0)\n",
            "Requirement already satisfied: greenlet!=0.4.17 in /usr/local/lib/python3.11/dist-packages (from sqlalchemy<3.0.0,>=2.0.27->embedchain>=0.1.114->crewai-tools>=0.36.0->crewai[tools]) (3.1.1)\n",
            "Requirement already satisfied: humanfriendly>=9.1 in /usr/local/lib/python3.11/dist-packages (from coloredlogs->onnxruntime>=1.14.1->chromadb>=0.5.23->crewai[tools]) (10.0)\n",
            "Requirement already satisfied: mpmath<1.4,>=1.1.0 in /usr/local/lib/python3.11/dist-packages (from sympy->onnxruntime>=1.14.1->chromadb>=0.5.23->crewai[tools]) (1.3.0)\n",
            "Requirement already satisfied: marshmallow<4.0.0,>=3.18.0 in /usr/local/lib/python3.11/dist-packages (from dataclasses-json<0.7,>=0.5.7->langchain-community<0.4.0,>=0.3.1->embedchain>=0.1.114->crewai-tools>=0.36.0->crewai[tools]) (3.26.1)\n",
            "Requirement already satisfied: typing-inspect<1,>=0.4.0 in /usr/local/lib/python3.11/dist-packages (from dataclasses-json<0.7,>=0.5.7->langchain-community<0.4.0,>=0.3.1->embedchain>=0.1.114->crewai-tools>=0.36.0->crewai[tools]) (0.9.0)\n",
            "Requirement already satisfied: grpcio-status<2.0.dev0,>=1.33.2 in /usr/local/lib/python3.11/dist-packages (from google-api-core[grpc]!=2.0.*,!=2.1.*,!=2.2.*,!=2.3.*,!=2.4.*,!=2.5.*,!=2.6.*,!=2.7.*,<3.0.0dev,>=1.34.1->google-cloud-aiplatform<2.0.0,>=1.26.1->embedchain>=0.1.114->crewai-tools>=0.36.0->crewai[tools]) (1.62.3)\n",
            "Requirement already satisfied: google-cloud-core<3.0.0dev,>=2.4.1 in /usr/local/lib/python3.11/dist-packages (from google-cloud-bigquery!=3.20.0,<4.0.0dev,>=1.15.0->google-cloud-aiplatform<2.0.0,>=1.26.1->embedchain>=0.1.114->crewai-tools>=0.36.0->crewai[tools]) (2.4.2)\n",
            "Requirement already satisfied: google-resumable-media<3.0dev,>=2.0.0 in /usr/local/lib/python3.11/dist-packages (from google-cloud-bigquery!=3.20.0,<4.0.0dev,>=1.15.0->google-cloud-aiplatform<2.0.0,>=1.26.1->embedchain>=0.1.114->crewai-tools>=0.36.0->crewai[tools]) (2.7.2)\n",
            "Requirement already satisfied: grpc-google-iam-v1<1.0.0dev,>=0.14.0 in /usr/local/lib/python3.11/dist-packages (from google-cloud-resource-manager<3.0.0dev,>=1.3.3->google-cloud-aiplatform<2.0.0,>=1.26.1->embedchain>=0.1.114->crewai-tools>=0.36.0->crewai[tools]) (0.14.1)\n",
            "Requirement already satisfied: google-crc32c<2.0dev,>=1.0 in /usr/local/lib/python3.11/dist-packages (from google-cloud-storage<3.0.0dev,>=1.32.0->google-cloud-aiplatform<2.0.0,>=1.26.1->embedchain>=0.1.114->crewai-tools>=0.36.0->crewai[tools]) (1.6.0)\n",
            "Requirement already satisfied: jsonpatch<2.0,>=1.33 in /usr/local/lib/python3.11/dist-packages (from langchain-core<1.0.0,>=0.3.41->langchain<0.4.0,>=0.3.1->embedchain>=0.1.114->crewai-tools>=0.36.0->crewai[tools]) (1.33)\n",
            "Requirement already satisfied: tzdata>=2022.7 in /usr/local/lib/python3.11/dist-packages (from pandas>=1.4.3->langchain-cohere<0.4.0,>=0.3.0->embedchain>=0.1.114->crewai-tools>=0.36.0->crewai[tools]) (2025.1)\n",
            "Requirement already satisfied: pyasn1<0.7.0,>=0.4.6 in /usr/local/lib/python3.11/dist-packages (from pyasn1-modules>=0.2.1->google-auth>=1.0.1->kubernetes>=28.1.0->chromadb>=0.5.23->crewai[tools]) (0.6.1)\n",
            "Requirement already satisfied: grpcio-tools>=1.41.0 in /usr/local/lib/python3.11/dist-packages (from qdrant-client<2.0.0,>=1.9.1->mem0ai<0.2.0,>=0.1.54->embedchain>=0.1.114->crewai-tools>=0.36.0->crewai[tools]) (1.70.0)\n",
            "Requirement already satisfied: portalocker<3.0.0,>=2.7.0 in /usr/local/lib/python3.11/dist-packages (from qdrant-client<2.0.0,>=1.9.1->mem0ai<0.2.0,>=0.1.54->embedchain>=0.1.114->crewai-tools>=0.36.0->crewai[tools]) (2.10.1)\n",
            "Requirement already satisfied: h2<5,>=3 in /usr/local/lib/python3.11/dist-packages (from httpx[http2]>=0.20.0->qdrant-client<2.0.0,>=1.9.1->mem0ai<0.2.0,>=0.1.54->embedchain>=0.1.114->crewai-tools>=0.36.0->crewai[tools]) (4.2.0)\n",
            "Requirement already satisfied: jsonpointer>=1.9 in /usr/local/lib/python3.11/dist-packages (from jsonpatch<2.0,>=1.33->langchain-core<1.0.0,>=0.3.41->langchain<0.4.0,>=0.3.1->embedchain>=0.1.114->crewai-tools>=0.36.0->crewai[tools]) (3.0.0)\n",
            "Requirement already satisfied: mypy-extensions>=0.3.0 in /usr/local/lib/python3.11/dist-packages (from typing-inspect<1,>=0.4.0->dataclasses-json<0.7,>=0.5.7->langchain-community<0.4.0,>=0.3.1->embedchain>=0.1.114->crewai-tools>=0.36.0->crewai[tools]) (1.0.0)\n",
            "Requirement already satisfied: hyperframe<7,>=6.1 in /usr/local/lib/python3.11/dist-packages (from h2<5,>=3->httpx[http2]>=0.20.0->qdrant-client<2.0.0,>=1.9.1->mem0ai<0.2.0,>=0.1.54->embedchain>=0.1.114->crewai-tools>=0.36.0->crewai[tools]) (6.1.0)\n",
            "Requirement already satisfied: hpack<5,>=4.1 in /usr/local/lib/python3.11/dist-packages (from h2<5,>=3->httpx[http2]>=0.20.0->qdrant-client<2.0.0,>=1.9.1->mem0ai<0.2.0,>=0.1.54->embedchain>=0.1.114->crewai-tools>=0.36.0->crewai[tools]) (4.1.0)\n"
          ]
        }
      ]
    },
    {
      "cell_type": "markdown",
      "source": [
        "## Therapy Response Cultural Adaptation Pipeline (Cultural Values Only) (Without Flow)"
      ],
      "metadata": {
        "id": "dugCm_WlqgZp"
      }
    },
    {
      "cell_type": "code",
      "source": [
        "# Warning control\n",
        "import warnings\n",
        "warnings.filterwarnings('ignore')\n",
        "\n",
        "# Load environment variables\n",
        "from google.colab import userdata\n",
        "\n",
        "import os\n",
        "import yaml\n",
        "from crewai import Agent, Task, Crew\n",
        "from crewai_tools import PDFSearchTool"
      ],
      "metadata": {
        "id": "wGx_XIwYqfu-",
        "colab": {
          "base_uri": "https://localhost:8080/"
        },
        "outputId": "499614b0-75d4-47fd-d2f7-025494a0d710"
      },
      "execution_count": null,
      "outputs": [
        {
          "output_type": "stream",
          "name": "stderr",
          "text": [
            "/usr/local/lib/python3.11/dist-packages/pydantic/_internal/_config.py:295: PydanticDeprecatedSince20: Support for class-based `config` is deprecated, use ConfigDict instead. Deprecated in Pydantic V2.0 to be removed in V3.0. See Pydantic V2 Migration Guide at https://errors.pydantic.dev/2.10/migration/\n",
            "  warnings.warn(DEPRECATION_MESSAGE, DeprecationWarning)\n",
            "/usr/local/lib/python3.11/dist-packages/crewai_tools/tools/scrapegraph_scrape_tool/scrapegraph_scrape_tool.py:34: PydanticDeprecatedSince20: Pydantic V1 style `@validator` validators are deprecated. You should migrate to Pydantic V2 style `@field_validator` validators, see the migration guide for more details. Deprecated in Pydantic V2.0 to be removed in V3.0. See Pydantic V2 Migration Guide at https://errors.pydantic.dev/2.10/migration/\n",
            "  @validator(\"website_url\")\n",
            "/usr/local/lib/python3.11/dist-packages/crewai_tools/tools/selenium_scraping_tool/selenium_scraping_tool.py:26: PydanticDeprecatedSince20: Pydantic V1 style `@validator` validators are deprecated. You should migrate to Pydantic V2 style `@field_validator` validators, see the migration guide for more details. Deprecated in Pydantic V2.0 to be removed in V3.0. See Pydantic V2 Migration Guide at https://errors.pydantic.dev/2.10/migration/\n",
            "  @validator(\"website_url\")\n",
            "/usr/local/lib/python3.11/dist-packages/crewai_tools/tools/vision_tool/vision_tool.py:15: PydanticDeprecatedSince20: Pydantic V1 style `@validator` validators are deprecated. You should migrate to Pydantic V2 style `@field_validator` validators, see the migration guide for more details. Deprecated in Pydantic V2.0 to be removed in V3.0. See Pydantic V2 Migration Guide at https://errors.pydantic.dev/2.10/migration/\n",
            "  @validator(\"image_path_url\")\n"
          ]
        }
      ]
    },
    {
      "cell_type": "code",
      "execution_count": null,
      "metadata": {
        "id": "UZ6Dze7lqap4"
      },
      "outputs": [],
      "source": [
        "os.environ['OPENAI_API_KEY'] = userdata.get('PHI_Tier2_ChineseChatbot_Project')\n",
        "os.environ['OPENAI_MODEL_NAME'] = 'gpt-4o-mini'"
      ]
    },
    {
      "cell_type": "markdown",
      "source": [
        "### Unit Test for the Therapy Expert"
      ],
      "metadata": {
        "id": "3BPFt3vo0jQp"
      }
    },
    {
      "cell_type": "code",
      "source": [
        "# Define file paths for YAML configurations\n",
        "files = {\n",
        "    'agents': 'config/agents.yaml',\n",
        "    'tasks': 'config/tasks.yaml'\n",
        "}\n",
        "\n",
        "# Load configurations from YAML files\n",
        "configs = {}\n",
        "for config_type, file_path in files.items():\n",
        "    with open(file_path, 'r') as file:\n",
        "        configs[config_type] = yaml.safe_load(file)\n",
        "\n",
        "# Assign loaded configurations to specific variables\n",
        "agents_config = configs['agents']\n",
        "tasks_config = configs['tasks']"
      ],
      "metadata": {
        "id": "uXpSmTNYrgVc"
      },
      "execution_count": null,
      "outputs": []
    },
    {
      "cell_type": "code",
      "source": [
        "tasks_config"
      ],
      "metadata": {
        "colab": {
          "base_uri": "https://localhost:8080/"
        },
        "id": "V7FdaKu92Ud2",
        "outputId": "fcfe5e18-193c-4411-fed2-91a0b308c8d9"
      },
      "execution_count": null,
      "outputs": [
        {
          "output_type": "execute_result",
          "data": {
            "text/plain": [
              "{'therapy_expert_task': {'description': '仔细分析用户的输入，并给出什么是作为心理咨询师好的回答的关键点。请记住，对话的核心是用户自身。给用户的回答中尽量只提出一个问题。\\\\n用户回答：{user_input}',\n",
              "  'expected_output': '一些关键点和建议的列表。'}}"
            ]
          },
          "metadata": {},
          "execution_count": 9
        }
      ]
    },
    {
      "cell_type": "code",
      "source": [
        "# Creating Agents\n",
        "therapy_expert_agent = Agent(\n",
        "  config=agents_config['therapy_expert_agent']\n",
        ")\n",
        "\n",
        "# Creating Tasks\n",
        "therapy_expert_task = Task(\n",
        "  config=tasks_config['therapy_expert_task'],\n",
        "  agent=therapy_expert_agent\n",
        ")\n",
        "\n",
        "# Creating Crew\n",
        "crew = Crew(\n",
        "  agents=[\n",
        "    therapy_expert_agent,\n",
        "  ],\n",
        "  tasks=[\n",
        "    therapy_expert_task,\n",
        "  ],\n",
        "  verbose=True\n",
        ")"
      ],
      "metadata": {
        "id": "dA75VSfL2I6P"
      },
      "execution_count": null,
      "outputs": []
    },
    {
      "cell_type": "code",
      "source": [
        "user_input = \"\"\"我最近真的压力很大，感觉没人能理解我要照顾家人的牺牲。\"\"\"\n"
      ],
      "metadata": {
        "id": "pCa7VEm827ne"
      },
      "execution_count": null,
      "outputs": []
    },
    {
      "cell_type": "code",
      "source": [
        "# The given Python dictionary\n",
        "inputs = {\n",
        "  'user_input': user_input,\n",
        "\n",
        "}\n",
        "\n",
        "# Run the crew\n",
        "result = crew.kickoff(\n",
        "  inputs=inputs\n",
        ")"
      ],
      "metadata": {
        "colab": {
          "base_uri": "https://localhost:8080/"
        },
        "id": "a5D8xjn_3New",
        "outputId": "0d2acb97-c2b5-4ceb-dffe-f37731fcc68f"
      },
      "execution_count": null,
      "outputs": [
        {
          "output_type": "stream",
          "name": "stdout",
          "text": [
            "\u001b[1m\u001b[95m# Agent:\u001b[00m \u001b[1m\u001b[92m心理咨询专家\u001b[00m\n",
            "\u001b[95m## Task:\u001b[00m \u001b[92m仔细分析用户的输入，并给出什么是作为心理咨询师好的回答的关键点。请记住，对话的核心是用户自身。给用户的回答中尽量只提出一个问题。\\n用户回答：我最近真的压力很大，感觉没人能理解我要照顾家人的牺牲。\u001b[00m\n",
            "\n",
            "\n",
            "\u001b[1m\u001b[95m# Agent:\u001b[00m \u001b[1m\u001b[92m心理咨询专家\u001b[00m\n",
            "\u001b[95m## Final Answer:\u001b[00m \u001b[92m\n",
            "1. 反映情感：在回应用户时，要首先反映他们的感受以显示理解和同理心。例如，可以说：“听起来你正在经历许多压力，而且感觉没人能够真正理解你为照顾家人所做的牺牲。”\n",
            "\n",
            "2. 探索具体压力源：鼓励用户深入描述他们所承受的压力来源，可能是时间管理、情感支持的缺乏，或其他个人和家庭因素。例如：“能否分享一下具体让你感到压力的事情？比如有什么特别的责任或情况让你觉得压力加倍？”\n",
            "\n",
            "3. 确认牺牲和责任：对用户为家庭所做的牺牲表示认可，增强其自我价值感，让他们知道付出是被看到和重视的。例如：“照顾家人绝对需要巨大的努力和牺牲，而这通常是很少被人注意到的。”\n",
            "\n",
            "4. 提出一个聚焦问题：在总结用户感受的同时，提出一个开放性的问题鼓励他们继续探索。如：“在这些压力当中，有没有什么事情你觉得自己可以考虑做的，以帮助自己感到稍微轻松一些？”\n",
            "\n",
            "5. 增强自主性：通过动机式访谈的方式，鼓励用户思考自己的选择，唤起他们的动机来应对压力。  \n",
            "\n",
            "6. 表达支持：在回答中表达出你作为咨询师愿意陪伴并支持他们，增加信任感。可以说：“我在这里支持你，我们可以一起讨论如何更好地处理这些压力。”\n",
            "\n",
            "7. 共情与验证：在对话中展现出对用户所感受的事情的理解，确认他们的经验是合理的，与外界感知存在不同的视角。\n",
            "\n",
            "通过以上几点，可以确保对用户的关心与理解，同时引导他们更深入地思考自己的感受和如何应对压力。\u001b[00m\n",
            "\n",
            "\n"
          ]
        }
      ]
    },
    {
      "cell_type": "code",
      "source": [],
      "metadata": {
        "id": "2W93JiXm3SXF"
      },
      "execution_count": null,
      "outputs": []
    },
    {
      "cell_type": "markdown",
      "source": [
        "### Unit Test for the Cultural Values Expert"
      ],
      "metadata": {
        "id": "FAka-BcH7IWO"
      }
    },
    {
      "cell_type": "code",
      "source": [
        "# Define file paths for YAML configurations\n",
        "files = {\n",
        "    'agents': 'config/agents.yaml',\n",
        "    'tasks': 'config/tasks.yaml'\n",
        "}\n",
        "\n",
        "# Load configurations from YAML files\n",
        "configs = {}\n",
        "for config_type, file_path in files.items():\n",
        "    with open(file_path, 'r') as file:\n",
        "        configs[config_type] = yaml.safe_load(file)\n",
        "\n",
        "# Assign loaded configurations to specific variables\n",
        "agents_config = configs['agents']\n",
        "tasks_config = configs['tasks']"
      ],
      "metadata": {
        "id": "3u9eqew07IWO"
      },
      "execution_count": null,
      "outputs": []
    },
    {
      "cell_type": "code",
      "source": [
        "tasks_config\n",
        "# agents_config"
      ],
      "metadata": {
        "colab": {
          "base_uri": "https://localhost:8080/"
        },
        "outputId": "b29b272f-5faf-4ccd-a505-15c943a61109",
        "id": "hfHh5ago7IWO"
      },
      "execution_count": null,
      "outputs": [
        {
          "output_type": "execute_result",
          "data": {
            "text/plain": [
              "{'therapy_expert_task': {'description': '仔细分析用户的输入，并给出什么是作为心理咨询师好的回答的关键点。请记住，对话的核心是用户自身。给用户的回答中尽量只提出一个问题。\\\\n用户回答：{user_input}',\n",
              "  'expected_output': '一些关键点和建议的列表。'},\n",
              " 'cultural_value_expert_task': {'description': '仔细分析用户的输入，并找到跟用户的输入最相关的两个{culture}文化价值观。\\\\n用户回答：{user_input}',\n",
              "  'expected_output': '两个跟用户的输入最相关的{culture}文化价值观。'}}"
            ]
          },
          "metadata": {},
          "execution_count": 25
        }
      ]
    },
    {
      "cell_type": "code",
      "source": [
        "# Creating Agents\n",
        "# therapy_expert_agent = Agent(\n",
        "#   config=agents_config['therapy_expert_agent']\n",
        "# )\n",
        "\n",
        "cultural_value_expert_agent = Agent(\n",
        "  config=agents_config['cultural_value_expert_agent']\n",
        ")\n",
        "\n",
        "# Creating Tasks\n",
        "# therapy_expert_task = Task(\n",
        "#   config=tasks_config['therapy_expert_task'],\n",
        "#   agent=therapy_expert_agent\n",
        "# )\n",
        "\n",
        "cultural_value_expert_task = Task(\n",
        "  config=tasks_config['cultural_value_expert_task'],\n",
        "  agent=cultural_value_expert_agent\n",
        ")\n",
        "\n",
        "# Creating Crew\n",
        "crew = Crew(\n",
        "  agents=[\n",
        "    cultural_value_expert_agent,\n",
        "  ],\n",
        "  tasks=[\n",
        "    cultural_value_expert_task,\n",
        "  ],\n",
        "  verbose=True\n",
        ")"
      ],
      "metadata": {
        "colab": {
          "base_uri": "https://localhost:8080/"
        },
        "id": "b-8hG7Lk7IWP",
        "outputId": "a060b2b2-a863-4dfd-9ca8-ba8f196e6b36"
      },
      "execution_count": null,
      "outputs": [
        {
          "output_type": "stream",
          "name": "stderr",
          "text": [
            "WARNING:opentelemetry.trace:Overriding of current TracerProvider is not allowed\n"
          ]
        }
      ]
    },
    {
      "cell_type": "code",
      "source": [
        "user_input = \"\"\"我最近真的压力很大，感觉没人能理解我要照顾家人的牺牲。\"\"\"\n",
        "culture = '中国'"
      ],
      "metadata": {
        "id": "X6VjGIiw7IWP"
      },
      "execution_count": null,
      "outputs": []
    },
    {
      "cell_type": "code",
      "source": [
        "# The given Python dictionary\n",
        "inputs = {\n",
        "  'user_input': user_input,\n",
        "  'culture': culture\n",
        "\n",
        "}\n",
        "\n",
        "# Run the crew\n",
        "result = crew.kickoff(\n",
        "  inputs=inputs\n",
        ")"
      ],
      "metadata": {
        "colab": {
          "base_uri": "https://localhost:8080/"
        },
        "outputId": "3d7fd65d-02ea-4724-c828-6c54102a7e66",
        "id": "bTsWLv1w7IWP"
      },
      "execution_count": null,
      "outputs": [
        {
          "output_type": "stream",
          "name": "stdout",
          "text": [
            "\u001b[1m\u001b[95m# Agent:\u001b[00m \u001b[1m\u001b[92m文化价值观专家\u001b[00m\n",
            "\u001b[95m## Task:\u001b[00m \u001b[92m仔细分析用户的输入，并找到跟用户的输入最相关的两个中国文化价值观。\\n用户回答：我最近真的压力很大，感觉没人能理解我要照顾家人的牺牲。\u001b[00m\n",
            "\n",
            "\n",
            "\u001b[1m\u001b[95m# Agent:\u001b[00m \u001b[1m\u001b[92m文化价值观专家\u001b[00m\n",
            "\u001b[95m## Final Answer:\u001b[00m \u001b[92m\n",
            "根据用户的输入，最相关的两个中国文化价值观是：\n",
            "\n",
            "1. **孝顺（Filial Piety）**：在中国文化中，孝顺是一个核心的价值观，强调对父母及长辈的尊重和照顾。用户提到要照顾家人的牺牲，反映了他们对家庭责任和长辈的关爱，强调了“家”这个概念的重要性，与孝顺的思想高度契合。\n",
            "\n",
            "2. **集体主义（Collectivism）**：中国文化常常强调集体意识和家庭的紧密关系，个人往往将家庭和社会的利益置于个人之上。用户感受到的压力和不被理解，可能源于对家庭角色的责任感和对维持家庭和谐的重视，这种价值观与集体主义密切相关，强调个人在家庭和社会中的义务。\n",
            "\n",
            "这两个价值观从用户的经历中显现出，他们可能在努力履行家庭责任时感到沉重的心理负担。\u001b[00m\n",
            "\n",
            "\n"
          ]
        }
      ]
    },
    {
      "cell_type": "code",
      "source": [],
      "metadata": {
        "id": "ZKHj1-SL7IWP"
      },
      "execution_count": null,
      "outputs": []
    },
    {
      "cell_type": "code",
      "source": [],
      "metadata": {
        "id": "GtUk8FRXzw7q"
      },
      "execution_count": null,
      "outputs": []
    },
    {
      "cell_type": "markdown",
      "source": [
        "### Unit Test for the Cultural Challenges Expert\n"
      ],
      "metadata": {
        "id": "GAIXWieDzzgc"
      }
    },
    {
      "cell_type": "code",
      "source": [
        "# Define file paths for YAML configurations\n",
        "files = {\n",
        "    'agents': 'config/agents.yaml',\n",
        "    'tasks': 'config/tasks.yaml'\n",
        "}\n",
        "\n",
        "# Load configurations from YAML files\n",
        "configs = {}\n",
        "for config_type, file_path in files.items():\n",
        "    with open(file_path, 'r') as file:\n",
        "        configs[config_type] = yaml.safe_load(file)\n",
        "\n",
        "# Assign loaded configurations to specific variables\n",
        "agents_config = configs['agents']\n",
        "tasks_config = configs['tasks']"
      ],
      "metadata": {
        "id": "UeUfoDXwzzgc"
      },
      "execution_count": null,
      "outputs": []
    },
    {
      "cell_type": "code",
      "source": [
        "tasks_config\n",
        "# agents_config"
      ],
      "metadata": {
        "colab": {
          "base_uri": "https://localhost:8080/"
        },
        "outputId": "c585c5a6-6d37-4ccf-c62b-a2c386822221",
        "id": "14mBBMCQzzgc"
      },
      "execution_count": null,
      "outputs": [
        {
          "output_type": "execute_result",
          "data": {
            "text/plain": [
              "{'therapy_expert_task': {'description': '仔细分析用户的输入，并给针对用户的输入最好的回答的一个关键点。请记住，对话的核心是用户自身。 用户的输入:{user_input}',\n",
              "  'expected_output': '一个当下回答用户的关键点。'},\n",
              " 'cultural_value_expert_task': {'description': '仔细分析用户的输入，并判断是否有跟用户的输入非常相关的{culture}文化价值观。如果不是非常相关的话，就回答’没有’。 用户的输入:{user_input}',\n",
              "  'expected_output': '是否有跟用户的输入非常相关的{culture}文化价值观。'},\n",
              " 'culturally_competent_therapist_task': {'description': '考虑文化价值观专家给出的文化价值观，和心理咨询专家给出的建议，给出用户一个回答。并在回答中合理地运用文化背景相关的挑战专家给出的从数据库里找到的相关内容。 给用户的回答中尽量只提出一个问题。 用户的输入:{user_input}',\n",
              "  'expected_output': '给用户的回答。'},\n",
              " 'cultural_challenge_task': {'description': '使用 PDFSearchTool 访问 {pdf_paths}。仔细分析用户的输入，找到任何有跟{culture}文化背景相关的挑战。 用户回答:{user_input}',\n",
              "  'expected_output': '从数据库里找到的相关内容。'}}"
            ]
          },
          "metadata": {},
          "execution_count": 38
        }
      ]
    },
    {
      "cell_type": "code",
      "source": [
        "pdf_path_challenges = '/content/华人普遍挑战.pdf'"
      ],
      "metadata": {
        "id": "U_jzKIeo6CC1"
      },
      "execution_count": null,
      "outputs": []
    },
    {
      "cell_type": "code",
      "source": [
        "# Creating Agents\n",
        "therapy_expert_agent = Agent(\n",
        "  config=agents_config['therapy_expert_agent'],\n",
        ")\n",
        "\n",
        "cultural_value_expert_agent = Agent(\n",
        "  config=agents_config['cultural_value_expert_agent']\n",
        ")\n",
        "\n",
        "culturally_competent_therapist_agent = Agent(\n",
        "  config=agents_config['culturally_competent_therapist_agent']\n",
        ")\n",
        "\n",
        "cultural_challenges_expert_agent = Agent(\n",
        "  config=agents_config['cultural_challenge_agent'],\n",
        "  tools=[PDFSearchTool(pdf_path_challenges)]\n",
        ")\n",
        "\n",
        "# Creating Tasks\n",
        "therapy_expert_task = Task(\n",
        "  config=tasks_config['therapy_expert_task'],\n",
        "  agent=therapy_expert_agent\n",
        ")\n",
        "\n",
        "cultural_value_expert_task = Task(\n",
        "  config=tasks_config['cultural_value_expert_task'],\n",
        "  agent=cultural_value_expert_agent\n",
        ")\n",
        "\n",
        "cultural_challenges_expert_task = Task(\n",
        "  config=tasks_config['cultural_challenge_task'],\n",
        "  agent=cultural_challenges_expert_agent\n",
        ")\n",
        "\n",
        "culturally_competent_therapist_task = Task(\n",
        "  config=tasks_config['culturally_competent_therapist_task'],\n",
        "  agent=culturally_competent_therapist_agent,\n",
        "  context=[therapy_expert_task, cultural_value_expert_task, cultural_challenges_expert_task]\n",
        ")\n",
        "\n",
        "\n",
        "\n",
        "# Creating Crew\n",
        "crew = Crew(\n",
        "  agents=[\n",
        "    therapy_expert_agent,\n",
        "    cultural_value_expert_agent,\n",
        "    cultural_challenges_expert_agent,\n",
        "    culturally_competent_therapist_agent,\n",
        "  ],\n",
        "  tasks=[\n",
        "    therapy_expert_task,\n",
        "    cultural_value_expert_task,\n",
        "    cultural_challenges_expert_task,\n",
        "    culturally_competent_therapist_task,\n",
        "  ],\n",
        "  verbose=True\n",
        ")"
      ],
      "metadata": {
        "colab": {
          "base_uri": "https://localhost:8080/"
        },
        "outputId": "b3009e3c-283e-4902-9e3b-08ac63f738e0",
        "id": "UK0pKN2Tzzgd"
      },
      "execution_count": null,
      "outputs": [
        {
          "output_type": "stream",
          "name": "stderr",
          "text": [
            "WARNING:opentelemetry.trace:Overriding of current TracerProvider is not allowed\n"
          ]
        }
      ]
    },
    {
      "cell_type": "code",
      "source": [
        "user_input = \"\"\"我最近真的压力很大，感觉没人能理解我要照顾家人的牺牲。\"\"\"\n",
        "culture = '中国'"
      ],
      "metadata": {
        "id": "y4PNrEPYzzgd"
      },
      "execution_count": null,
      "outputs": []
    },
    {
      "cell_type": "code",
      "source": [
        "# The given Python dictionary\n",
        "inputs = {\n",
        "  'user_input': user_input,\n",
        "  'culture': culture,\n",
        "  'pdf_paths':'/content/华人普遍挑战.pdf'\n",
        "\n",
        "}\n",
        "\n",
        "# Run the crew\n",
        "result = crew.kickoff(\n",
        "  inputs=inputs\n",
        ")"
      ],
      "metadata": {
        "colab": {
          "base_uri": "https://localhost:8080/"
        },
        "outputId": "c2016e94-24d3-4b46-d376-120dfac59a6c",
        "id": "z2oimylWzzgd"
      },
      "execution_count": null,
      "outputs": [
        {
          "output_type": "stream",
          "name": "stdout",
          "text": [
            "\u001b[1m\u001b[95m# Agent:\u001b[00m \u001b[1m\u001b[92m心理咨询专家\u001b[00m\n",
            "\u001b[95m## Task:\u001b[00m \u001b[92m仔细分析用户的输入，并给针对用户的输入最好的回答的一个关键点。请记住，对话的核心是用户自身。 用户的输入:我最近真的压力很大，感觉没人能理解我要照顾家人的牺牲。\u001b[00m\n",
            "\n",
            "\n",
            "\u001b[1m\u001b[95m# Agent:\u001b[00m \u001b[1m\u001b[92m心理咨询专家\u001b[00m\n",
            "\u001b[95m## Final Answer:\u001b[00m \u001b[92m\n",
            "您提到感到压力很大以及感觉无人能够理解您为照顾家人所做的牺牲。这表明您的付出和责任感是非常深厚的，但同时也可以令您感到孤独和无力。我想邀请您分享更多关于这些感受的具体情况，或者您在照顾家人的过程中所面临的具体挑战。这不仅能帮助您更深入地理解自己的感受，也可能为我们找到更有效的应对方式。您辛苦付出的一切是值得被理解和尊重的。请您放心，这里是一个安全的空间，您可以自由表达您的感受。\u001b[00m\n",
            "\n",
            "\n",
            "\u001b[1m\u001b[95m# Agent:\u001b[00m \u001b[1m\u001b[92m文化价值观专家\u001b[00m\n",
            "\u001b[95m## Task:\u001b[00m \u001b[92m仔细分析用户的输入，并判断是否有跟用户的输入非常相关的中国文化价值观。如果不是非常相关的话，就回答’没有’。 用户的输入:我最近真的压力很大，感觉没人能理解我要照顾家人的牺牲。\u001b[00m\n",
            "\n",
            "\n",
            "\u001b[1m\u001b[95m# Agent:\u001b[00m \u001b[1m\u001b[92m文化价值观专家\u001b[00m\n",
            "\u001b[95m## Final Answer:\u001b[00m \u001b[92m\n",
            "您的输入与中国文化中的“孝道”价值观非常相关。在中国文化中，孝道是最重要的伦理观念之一，强调对父母和家人的责任与照顾，表现出对家庭的无私奉献和牺牲精神。您提到的为照顾家人所做的牺牲，正体现了这一文化价值观。同时，您提到的压力和孤独感也显示出传统观念下，承担责任的个体往往难以获得外界的理解与支持，这也是在中国社会中常见的情感经历。总的来说，您的感受与中国文化中对家庭价值与个人责任感的重视有着密切的关联。\u001b[00m\n",
            "\n",
            "\n",
            "\u001b[1m\u001b[95m# Agent:\u001b[00m \u001b[1m\u001b[92m和文化背景相关的挑战专家\u001b[00m\n",
            "\u001b[95m## Task:\u001b[00m \u001b[92m使用 PDFSearchTool 访问 /content/华人普遍挑战.pdf。仔细分析用户的输入，找到任何有跟中国文化背景相关的挑战。 用户回答:我最近真的压力很大，感觉没人能理解我要照顾家人的牺牲。\u001b[00m\n",
            "\n",
            "\n",
            "\u001b[1m\u001b[95m# Agent:\u001b[00m \u001b[1m\u001b[92m和文化背景相关的挑战专家\u001b[00m\n",
            "\u001b[95m## Using tool:\u001b[00m \u001b[92mSearch a PDF's content\u001b[00m\n",
            "\u001b[95m## Tool Input:\u001b[00m \u001b[92m\n",
            "\"{\\\"query\\\": \\\"\\\\u538b\\\\u529b \\\\u5bb6\\\\u5ead \\\\u727a\\\\u7272 \\\\u5b5d\\\\u9053\\\"}\"\u001b[00m\n",
            "\u001b[95m## Tool Output:\u001b[00m \u001b[92m\n",
            "Relevant Content:\n",
            "重 视 甚 至 被 忽 视 的 话 题。 受 传 统 文 化 观 念 的 影 响 ， 许 多 人 可 能 认 为 心 理 问 题 是 一 种 “ 软 弱 ” 或 “ 不 应 该 公 开 谈 论 ” 的 事 情 ， 导 致 很 多 人 在 面 临 压 力、 焦 虑、 抑 郁 等 心 理 困 扰 时 ， 选 择 默 默 承 受 而 不 寻 求 帮 助。 一、 家 庭 社 会 误 解 ： 被 美 德 包 装 的 伤 害 ● 典 型 场 景 ： 某 留 学 生 因 抑 郁 症 休 学 ， 父 亲 在 家 族 群 发 长 文 ： \" 我 们 祖 辈 吃 树 皮 都 熬 过 来 了 ， 现 在 年 轻 人 就 是 太 娇 气 \" 。 将 心 理 问 题 等 同 于 道 德 缺 陷 的 认 知 偏 差 ， 使 得 家 庭 支 持 系 统 反 而 成 为 二 次 伤 害 源。 ● 文 化 解 码 ： 儒 家 文 化 中 的 \" 克 己 复 礼 \" 思 想 被 异 化 为 情 绪 压 抑 准 则 ， \" 喜 怒 不 形 于 色 \" 的 君 子 标 准 演 变 成 情 感 表 达 障 碍。\n",
            "\n",
            "空 气 里 凝 结 的 不 仅 是 尴 尬 ， 更 是 两 代 人 价 值 观 的 剧 烈 碰 撞。 这 样 的 场 景 ， 在 华 人 的 饭 桌、 客 厅 甚 至 微 信 群 里 反 复 上 演 ， 成 为 无 数 家 庭 的 集 体 记 忆。 一、 沉 默 的 对 话 者 ： 代 际 鸿 沟 的 具 象 化 在 传 统 孝 道 文 化 浸 润 下 ， \" 顶 嘴 \" 被 视 作 大 逆 不 道 ， 许 多 子 女 自 幼 习 得 \" 点 头 微 笑 \" 的 生 存 智 慧。 有 位 留 学 生 曾 告 诉 我 ， 每 次 视 频 通 话 都 像 在 表 演 ： 展 示 整 洁 的 公 寓、 虚 构 的 社 交 圈 ， 却 把 打 工 的 艰 辛、 分 手 的 痛 苦 全 部 咽 下。 而 父 母 这 边 ， 那 句 \" 我 们 都 是 为 你 好 \" 背 后 ， 可 能 藏 着 他 们 年 轻 时 未 竟 的 梦 想 ， 或 是 目 睹 时 代 剧 变 后 的 生 存 焦 虑。 语 言 的 非 对 称 性 更 添 隔 阂。 当 00 后 说 着 \" 内 卷 \" 躺 平 \" ， 父 母 耳 中 听 到 的 可 能 是 \" 懒 惰 \" ； 当 父 母 念 叨 \" 铁 饭 碗 \" ， 子 女 脑 海 里 浮 现 的 可 能 是 \" 僵 化 \" 。 有 位 移 民 家 庭 的 女 儿 发 现 ， 用 英 文 能 流 畅 表 达 自 我 感 受 ， 换 成 中 文 却 总 显 得 生 硬 疏 离 — 语 言 不 仅 是 工 具 ， 更 是 情 感 编 码 系 统。 二、 解 构 沟 通 的 \" 黑 匣 子 \" 突 破 的 关 键 在 于 重 建 对 话 坐 标 系。 有 位 工 程 师 朋 友 发 明 了 \" 三 明 治 沟 通 法 \" ： 先 汇 报 生 活 近 况 （ 让 父 母 安 心） ， 再 插 入 真 实 想 法 （ \" 其 实 我 对 现 在 的 工 作 有 些 新 思 考 \" ） ， 最 后 以 关 心 父 母 健 康 收 尾。 这 种 结 构 既 维 护 了 传 统 的 情 感 表 达 框 架 ， 又 悄 然 植 入 新 内 容。 文 化 转 译 员 的 角 色 至 关 重 要。 表 弟 曾 巧 妙 利 用 春 节 家 庭 聚 会 ， 在 长 辈 们\n",
            "\n",
            "与 这 些 在 照 顾 年 迈 父 母 中 挣 扎 的 子 女 共 情 ， 需 要 我 们 穿 过 表 象 的 「孝 顺」 叙 事 ， 触 摸 那 些 被 疲 惫 和 愧 疚 反 复 灼 烧 的 灵 魂 褶 皱。 他 们 的 困 境 不 仅 是 语 言 交 流 的 断 裂 ， 更 是 文 化 基 因 与 人 性 本 能 之 间 的 撕 裂 — 既 要 背 负 千 年 孝 道 的 重 量 ， 又 要 直 面 现 代 社 会 中 个 体 生 命 的 有 限 性。 以 下 是 真 正 走 进 他 们 内 心 的 共 情 路 径 ： 一、 看 见 「孝」 字 背 后 的 无 声 雪 崩 当 人 们 称 赞 「你 真 孝 顺」 时 ， 往 往 看 不 见 的 ： ● 午 夜 两 点 的 生 物 钟 ： 每 隔 90 分 钟 翻 身 拍 背 的 护 理 闹 钟 ， 让 时 间 碎 成 无 法 拼 凑 的 残 片 ● 消 失 的 社 交 坐 标 系 ： 朋 友 聚 会 的 邀 约 变 成 「等 父 母 状 况 好 点」 ， 最 后 连 拒 绝 的 借 口 都 懒 得 编 造 ● 被 吞 噬 的 身 份 认 知 ： 从 「李 经 理」 退 行 为 「 3 床 家 属」 ， 职 场 名 片 逐 渐 染 上 消 毒 水 味 道 共 情 锚 点 ： 不 要 说 「你 真 不 容 易」 ， 而 是 说 「你 把 自 己 切 成 多 少 碎 片 来 承 接 这 一 切？」 「那 些 不 得 不 放 弃 的 人 生 可 能 性 ， 是 不 是 也 会 在 深 夜 刺 疼 你？」 二、 解 码 「不 耐 烦」 里 的 生 存 警 报 当 子 女 对 重 复 解 释 病 情 失 去 耐 心 时 ， 真 正 在 尖 叫 的 是 ： ● 认 知 过 载 的 神 经 元 ： 同 时 处 理 医 嘱、 保 险 单、 保 姆 工 资 表 的 脑 区 已 超 频 燃 烧 ● 被 透 支 的 情 绪 账 户 ： 父 母 的 每 句 「 别 管 我」 都 在 支 取 最 后 的 心 理 余 额 ● 倒 置 的 童 年 创 伤 ： 幼 时 「不 听 话 就 被 抛 弃」 的 恐 惧 ， 转 化 成 「父 母 不 配 合 治 疗」 的 愤 怒 共 情 公 式 ： 「你 现 在 的 烦 躁 ， 是 身 体 在 提 醒\u001b[00m\n",
            "\n",
            "\n",
            "\u001b[1m\u001b[95m# Agent:\u001b[00m \u001b[1m\u001b[92m和文化背景相关的挑战专家\u001b[00m\n",
            "\u001b[95m## Final Answer:\u001b[00m \u001b[92m\n",
            "重 视 甚 至 被 忽 视 的 话 题。 受 传 统 文 化 观 念 的 影 响 ， 许 多 人 可 能 认 为 心 理 问 题 是 一 种 “ 软 弱 ” 或 “ 不 应 该 公 开 谈 论 ” 的 事 情 ， 导 致 很 多 人 在 面 临 压 力、 焦 虑、 抑 郁 等 心 理 困 扰 时 ， 选 择 默 默 承 受 而 不 寻 求 帮 助。 一、 家 庭 社 会 误 解 ： 被 美 德 包 装 的 伤 害 ● 典 型 场 景 ： 某 留 学 生 因 抑 郁 症 休 学 ， 父 亲 在 家 族 群 发 长 文 ： \" 我 们 祖 辈 吃 树 皮 都 熬 过 来 了 ， 现 在 年 轻 人 就 是 太 娇 气 \" 。 将 心 理 问 题 等 同 于 道 德 缺 陷 的 认 知 偏 差 ， 使 得 家 庭 支 持 系 统 反 而 成 为 二 次 伤 害 源。 ● 文 化 解 码 ： 儒 家 文 化 中 的 \" 克 己 复 礼 \" 思 想 被 异 化 为 情 绪 压 抑 准 则 ， \" 喜 怒 不 形 于 色 \" 的 君 子 标 准 演 变 成 情 感 表 达 障 碍。\n",
            "\n",
            "空 气 里 凝 结 的 不 仅 是 尴 尬 ， 更 是 两 代 人 价 值 观 的 剧 烈 碰 撞。 这 样 的 场 景 ， 在 华 人 的 饭 桌、 客 厅 甚 至 微 信 群 里 反 复 上 演 ， 成 为 无 数 家 庭 的 集 体 记 忆。 一、 沉 默 的 对 话 者 ： 代 际 鸿 沽 的 具 象 化 在 传 统 孝 道 文 化 浸 润 下 ， \" 顶 嘴 \" 被 视 作 大 逆 不 道 ， 许 多 子 女 自 幼 习 得 \" 点 头 微 笑 \" 的 生 存 智 慧。 有 位 留 学 生 曾 告 诉 我 ， 每 次 视 频 通 话 都 像 在 表 演 ： 展 示 整 洁 的 公 寓、 虚 构 的 社 交 圈 ， 却 把 打 工 的 艰 辛、 分 手 的 痛 苦 全 部 咽 下。 而 父 母 这 边 ， 那 句 \" 我 们 都 是 为 你 好 \" 背 后 ， 可 能 藏 着 他 们 年 轻 时 未 竟 的 梦 想 ， 或 是 目 睹 时 代 剧 变 后 的 生 存 焦 虑。 语 言 的 非 对 称 性 更 添 隔 阂。 当 00 后 说 着 \" 内 卷 \" 躺 平 \" ， 父 母 耳 中 听 到 的 可 能 是 \" 懒 惰 \" ； 当 父 母 念 叨 \" 铁 饭 碗 \" ， 子 女 脑 海 里 浮 现 的 可 能 是 \" 僵 化 \" 。 有 位 移 民 家 庭 的 女 儿 发 现 ， 用 英 文 能 流 畅 表 达 自 我 感 受 ， 换 成 中 文 却 总 显 得 生 硬 疏 离 — 语 言 不 仅 是 工 具 ， 更 是 情 感 编 码 系 统。 二、 解 构 沟 通 的 \" 黑 匣 子 \" 突 破 的 关 键 在 于 重 建 对 话 坐 标 系。 有 位 工 程 师 朋 友 发 明 了 \" 三 明 治 沟 通 法 \" ： 先 汇 报 生 活 近 况 （ 让 父 母 安 心） ， 再 插 入 真 实 想 法 （ \" 其 实 我 对 现 在 的 工 作 有 些 新 思 考 \" ） ， 最 后 以 关 心 父 母 健 康 收 尾。 这 种 结 构 既 维 护 了 传 统 的 情 感 表 达 框 架 ， 又 悄 然 植  入 新 内 容。 文 化 转 译 员 的 角 色 至 关 重 要。 表 弟 曾 巧 妙 利 用 春 节 家 庭 聚 会 ， 在 长 辈 们 与 这 些 在 照 顾 年 迈 父 母 中 挣 扎 的 子 女 共 情 ， 需 要 我 们 穿 过 表 象 的 「孝 顺」 叙 事 ， 触 摸 那 些 被 疲 惫 和 愧 疚 反 复 灼 烧 的 灵 魂 褶 皱。 他 们 的 困 境 不 仅 是 语 言 交 流 的 断 裂 ， 更 是 文 化 基 因 与 人 性 本 能 之 间 的 撕 裂 — 既 要 背 负 千 年 孝 道 的 重 量 ， 又 要 直 面 现 代 社 会 中 个 体 生 命 的 有 限 性。 以 下 是 真 正 走 进 他 们 内 心 的 共 情 路 径 ： 一、 看 见 「孝」 字 背 后 的 无 声 雪 崩 当 人 们 称 赞 「你 真 孝 顺」 时 ， 往 往 看 不 见 的 ： ● 午 夜 两 点 的 生 物 钟 ： 每 隔 90 分 钟 翻 身 拍 背 的 护 理 闹 钟 ， 让 时 间 碎 成 无 法 拼 凑 的 残 片 ● 消 失 的 社 交 坐 标 系 ： 朋 友 聚 会 的 邀 约 变 成 「等 父 母 状 况 好 点」 ， 最 后 连 拒 绝 的 借 口 都 懒 得 编 造 ● 被 吞 噬 的 身 份 认 知 ： 从 「李 经 理」 退 行 为 「 3 床 家 属」 ， 职 场 名 片 逐 渐 染 上 消 毒 水 味 道 共 情 锚 点 ： 不 要 说 「你 真 不 容 易」 ， 而 是 说 「你 把 自 己 切 成 多 少 碎 片 来 承 接 这 一 切？」 「那 些 不 得 不 放 弃 的 人 生 可 能 性 ， 是 不 是 也 会 在 深 夜 刺 疼 你？」 二、 解 码 「不 耐 烦」 里 的 生 存 警 报 当 子 女 对 重 复 解 释 病 情 失 去 耐 心 时 ， 真 正 在 尖 叫 的 是 ： ● 认 知 过 载 的 神 经 元 ： 同 时 处 理 医 嘱、 保 险 单、 保 姆 工 资 表 的 脑 区 已 超 频 燃 烧 ● 被 透 支 的 情 绪 账 户 ： 父 母 的 每 句 「 别 管 我」 都 在 支 取 最 后 的 心 理 余 额 ● 倒 置 的 童 年 创 伤 ： 幼 时 「不 听 话 就 被 抛 弃」 的 恐 惧 ， 转 化 成 「父 母 不 配 合 治 疗」 的 愤 怒 共 情 公 式 ： 「你 现 在 的 烦 躁 ， 是 身 体 在 提 醒\n",
            "```\u001b[00m\n",
            "\n",
            "\n",
            "\u001b[1m\u001b[95m# Agent:\u001b[00m \u001b[1m\u001b[92m理解文化背景的心理咨询专家\u001b[00m\n",
            "\u001b[95m## Task:\u001b[00m \u001b[92m考虑文化价值观专家给出的文化价值观，和心理咨询专家给出的建议，给出用户一个回答。并在回答中合理地运用文化背景相关的挑战专家给出的从数据库里找到的相关内容。 给用户的回答中尽量只提出一个问题。 用户的输入:我最近真的压力很大，感觉没人能理解我要照顾家人的牺牲。\u001b[00m\n",
            "\n",
            "\n",
            "\u001b[1m\u001b[95m# Agent:\u001b[00m \u001b[1m\u001b[92m理解文化背景的心理咨询专家\u001b[00m\n",
            "\u001b[95m## Final Answer:\u001b[00m \u001b[92m\n",
            "您提到的压力和照顾家人的牺牲，不仅是个人责任感的体现，也深深植根于中国文化中的“孝道”理念。孝道强调对家庭的奉献，这是一种值得尊重和认同的价值观。然而，这种责任的重担有时可能让我们感到孤独和无助，您是否有机会向家中其他成员表达您的感受，或者尝试与他们分享您在照顾他人过程中所面临的挑战？通过这样的交流，或许可以减轻您的心理负担，也许会发现他们也有类似的感受。请记住，您的付出是值得理解的，在这个过程中，彼此的支持和关心可以带来很大的安慰。\u001b[00m\n",
            "\n",
            "\n"
          ]
        }
      ]
    },
    {
      "cell_type": "code",
      "source": [],
      "metadata": {
        "id": "JLt8ltW2zzgd"
      },
      "execution_count": null,
      "outputs": []
    },
    {
      "cell_type": "markdown",
      "source": [
        "### Test for the Cultural Values Expert + Therapy Expert + Culturally Competent Therapist"
      ],
      "metadata": {
        "id": "oELWF7_jC9HS"
      }
    },
    {
      "cell_type": "code",
      "source": [
        "# Define file paths for YAML configurations\n",
        "files = {\n",
        "    'agents': 'config/agents.yaml',\n",
        "    'tasks': 'config/tasks.yaml'\n",
        "}\n",
        "\n",
        "# Load configurations from YAML files\n",
        "configs = {}\n",
        "for config_type, file_path in files.items():\n",
        "    with open(file_path, 'r') as file:\n",
        "        configs[config_type] = yaml.safe_load(file)\n",
        "\n",
        "# Assign loaded configurations to specific variables\n",
        "agents_config = configs['agents']\n",
        "tasks_config = configs['tasks']"
      ],
      "metadata": {
        "id": "9VH3PbJeC9HS"
      },
      "execution_count": null,
      "outputs": []
    },
    {
      "cell_type": "code",
      "source": [
        "tasks_config\n",
        "# agents_config"
      ],
      "metadata": {
        "colab": {
          "base_uri": "https://localhost:8080/"
        },
        "outputId": "07a0a118-6288-44ea-c274-abaf13b6cabf",
        "id": "TdprywawC9HS"
      },
      "execution_count": null,
      "outputs": [
        {
          "output_type": "execute_result",
          "data": {
            "text/plain": [
              "{'therapy_expert_task': {'description': '仔细分析用户的输入，并给针对用户的输入最好的回答的一个关键点。请记住，对话的核心是用户自身\\\\n用户回答:{user_input}',\n",
              "  'expected_output': '一个当下回答用户的关键点。'},\n",
              " 'cultural_value_expert_task': {'description': '仔细分析用户的输入，并判断是否有跟用户的输入非常相关的{culture}文化价值观。如果不是非常相关的话，就回答’没有’。\\\\n用户的输入:{user_input}',\n",
              "  'expected_output': '是否有跟用户的输入非常相关的{culture}文化价值观。'},\n",
              " 'culturally_competent_therapist_task': {'description': '根据用户的输入，文化价值观专家给出的文化价值观，和心理咨询专家给出的建议，给出用户一个回答。给用户的回答中最多只提出一个问题\\\\n用户回答:{user_input}',\n",
              "  'expected_output': '给用户的回答。'}}"
            ]
          },
          "metadata": {},
          "execution_count": 50
        }
      ]
    },
    {
      "cell_type": "code",
      "source": [
        "# Creating Agents\n",
        "therapy_expert_agent = Agent(\n",
        "  config=agents_config['therapy_expert_agent']\n",
        ")\n",
        "\n",
        "cultural_value_expert_agent = Agent(\n",
        "  config=agents_config['cultural_value_expert_agent']\n",
        ")\n",
        "\n",
        "culturally_competent_therapist_agent = Agent(\n",
        "  config=agents_config['culturally_competent_therapist_agent']\n",
        ")\n",
        "\n",
        "# Creating Tasks\n",
        "therapy_expert_task = Task(\n",
        "  config=tasks_config['therapy_expert_task'],\n",
        "  agent=therapy_expert_agent\n",
        ")\n",
        "\n",
        "cultural_value_expert_task = Task(\n",
        "  config=tasks_config['cultural_value_expert_task'],\n",
        "  agent=cultural_value_expert_agent\n",
        ")\n",
        "\n",
        "culturally_competent_therapist_task = Task(\n",
        "  config=tasks_config['culturally_competent_therapist_task'],\n",
        "  agent=culturally_competent_therapist_agent,\n",
        "  context=[therapy_expert_task, cultural_value_expert_task]\n",
        ")\n",
        "\n",
        "# Creating Crew\n",
        "crew = Crew(\n",
        "  agents=[\n",
        "    therapy_expert_agent,\n",
        "    cultural_value_expert_agent,\n",
        "    culturally_competent_therapist_agent,\n",
        "  ],\n",
        "  tasks=[\n",
        "    therapy_expert_task,\n",
        "    cultural_value_expert_task,\n",
        "    culturally_competent_therapist_task,\n",
        "  ],\n",
        "  verbose=True\n",
        ")"
      ],
      "metadata": {
        "colab": {
          "base_uri": "https://localhost:8080/"
        },
        "outputId": "3ee7bab6-666f-472e-8708-0705bdc37d8a",
        "id": "41RGFaTmC9HS"
      },
      "execution_count": null,
      "outputs": [
        {
          "output_type": "stream",
          "name": "stderr",
          "text": [
            "WARNING:opentelemetry.trace:Overriding of current TracerProvider is not allowed\n"
          ]
        }
      ]
    },
    {
      "cell_type": "code",
      "source": [
        "# user_input = \"\"\"我最近真的压力很大，感觉没人能理解我要照顾家人的牺牲。\"\"\"\n",
        "user_input = \"\"\"我最近工作压力很大。\"\"\"\n",
        "culture = '中国'"
      ],
      "metadata": {
        "id": "4ksFvXvRC9HT"
      },
      "execution_count": null,
      "outputs": []
    },
    {
      "cell_type": "code",
      "source": [
        "# The given Python dictionary\n",
        "inputs = {\n",
        "  'user_input': user_input,\n",
        "  'culture': culture\n",
        "\n",
        "}\n",
        "\n",
        "# Run the crew\n",
        "result = crew.kickoff(\n",
        "  inputs=inputs\n",
        ")"
      ],
      "metadata": {
        "colab": {
          "base_uri": "https://localhost:8080/"
        },
        "outputId": "18be22f1-d02c-497e-e0fa-de24a49c411a",
        "id": "8_cBQeHIC9HT"
      },
      "execution_count": null,
      "outputs": [
        {
          "output_type": "stream",
          "name": "stdout",
          "text": [
            "\u001b[1m\u001b[95m# Agent:\u001b[00m \u001b[1m\u001b[92m心理咨询专家\u001b[00m\n",
            "\u001b[95m## Task:\u001b[00m \u001b[92m仔细分析用户的输入，并给针对用户的输入最好的回答的一个关键点。请记住，对话的核心是用户自身\\n用户回答:我最近工作压力很大。\u001b[00m\n",
            "\n",
            "\n",
            "\u001b[1m\u001b[95m# Agent:\u001b[00m \u001b[1m\u001b[92m心理咨询专家\u001b[00m\n",
            "\u001b[95m## Final Answer:\u001b[00m \u001b[92m\n",
            "你提到最近工作压力很大，这可能会影响你的情绪和生活质量。首先，我想问问你，具体是什么让你感到压力？是工作量太多，还是时间管理方面的问题，或者是与同事之间的关系？通过明确这些压力来源，我们可以一起来探讨一些可能的应对策略，帮助你更好地管理这些压力。请分享你的想法，我在这里倾听。\u001b[00m\n",
            "\n",
            "\n",
            "\u001b[1m\u001b[95m# Agent:\u001b[00m \u001b[1m\u001b[92m文化价值观专家\u001b[00m\n",
            "\u001b[95m## Task:\u001b[00m \u001b[92m仔细分析用户的输入，并判断是否有跟用户的输入非常相关的中国文化价值观。如果不是非常相关的话，就回答’没有’。\\n用户的输入:我最近工作压力很大。\u001b[00m\n",
            "\n",
            "\n",
            "\u001b[1m\u001b[95m# Agent:\u001b[00m \u001b[1m\u001b[92m文化价值观专家\u001b[00m\n",
            "\u001b[95m## Final Answer:\u001b[00m \u001b[92m\n",
            "在你提到的“最近工作压力很大”的情况下，可以与中国文化中的几个价值观相关联。首先，儒家文化强调家庭和谐和社会责任感，个人在工作中通常会感受到对家庭和社会的责任，因此工作压力可能会因希望满足这些期望而加大。此外，勤奋工作是中华文化的传统美德，常常被视为成功和功绩的关键，可能也会导致你在工作上感到额外的压力。最后，面对压力，寻求“和谐”与“中庸”的生活平衡也是中国文化中的重要理念，这可以帮助你在应对工作压力的时候找到更好的方法。\u001b[00m\n",
            "\n",
            "\n",
            "\u001b[1m\u001b[95m# Agent:\u001b[00m \u001b[1m\u001b[92m理解文化背景的心理咨询专家\u001b[00m\n",
            "\u001b[95m## Task:\u001b[00m \u001b[92m根据用户的输入，文化价值观专家给出的文化价值观，和心理咨询专家给出的建议，给出用户一个回答。给用户的回答中最多只提出一个问题\\n用户回答:我最近工作压力很大。\u001b[00m\n",
            "\n",
            "\n",
            "\u001b[1m\u001b[95m# Agent:\u001b[00m \u001b[1m\u001b[92m理解文化背景的心理咨询专家\u001b[00m\n",
            "\u001b[95m## Final Answer:\u001b[00m \u001b[92m\n",
            "你提到最近工作压力很大，这可能会影响你的情绪和生活质量。首先，我想问问你，具体是什么让你感到压力？是工作量太多，还是时间管理方面的问题，或者是与同事之间的关系？通过明确这些压力来源，我们可以一起来探讨一些可能的应对策略，帮助你更好地管理这些压力。值得注意的是，在中国文化中，儒家思想强调家庭和谐与社会责任感，也许你在工作中感受到的压力与这种责任感有关。同时，中华文化提倡的勤奋工作精神可能让你对自己提出更高的要求，从而增加了工作压力。寻求“和谐”与“中庸”的生活平衡也是应对压力的有效方式。请分享你的想法，我在这里倾听。\u001b[00m\n",
            "\n",
            "\n"
          ]
        }
      ]
    },
    {
      "cell_type": "code",
      "source": [],
      "metadata": {
        "id": "FfcFQ1kSC9HT"
      },
      "execution_count": null,
      "outputs": []
    }
  ]
}