{
  "nbformat": 4,
  "nbformat_minor": 0,
  "metadata": {
    "colab": {
      "provenance": [],
      "authorship_tag": "ABX9TyMPpCRqS3ss2duq/8E/3jOW",
      "include_colab_link": true
    },
    "kernelspec": {
      "name": "python3",
      "display_name": "Python 3"
    },
    "language_info": {
      "name": "python"
    }
  },
  "cells": [
    {
      "cell_type": "markdown",
      "metadata": {
        "id": "view-in-github",
        "colab_type": "text"
      },
      "source": [
        "<a href=\"https://colab.research.google.com/github/sjcxie/CulturallyAdapted-MentalHealthAI/blob/master/informed_multi_agent_adaptation.ipynb\" target=\"_parent\"><img src=\"https://colab.research.google.com/assets/colab-badge.svg\" alt=\"Open In Colab\"/></a>"
      ]
    },
    {
      "cell_type": "code",
      "execution_count": 1,
      "metadata": {
        "id": "9-HoBz5mv3eW"
      },
      "outputs": [],
      "source": [
        "!pip install --q crewai\n",
        "!pip install -q langchain-openai\n",
        "!pip install --q crewai-tools"
      ]
    },
    {
      "cell_type": "code",
      "source": [
        "import os\n",
        "\n",
        "from google.colab import userdata\n",
        "import openai\n",
        "from langchain_openai import ChatOpenAI\n",
        "from crewai import Agent, Crew, Process, Task\n",
        "from crewai.project import CrewBase, agent, crew, task\n",
        "from crewai_tools import PDFSearchTool"
      ],
      "metadata": {
        "colab": {
          "base_uri": "https://localhost:8080/"
        },
        "id": "wwZgfh7xv5yp",
        "outputId": "47f2f055-6a07-44d1-ac7c-392f3cc90492"
      },
      "execution_count": 2,
      "outputs": [
        {
          "output_type": "stream",
          "name": "stderr",
          "text": [
            "/usr/local/lib/python3.11/dist-packages/pydantic/_internal/_config.py:295: PydanticDeprecatedSince20: Support for class-based `config` is deprecated, use ConfigDict instead. Deprecated in Pydantic V2.0 to be removed in V3.0. See Pydantic V2 Migration Guide at https://errors.pydantic.dev/2.10/migration/\n",
            "  warnings.warn(DEPRECATION_MESSAGE, DeprecationWarning)\n",
            "/usr/local/lib/python3.11/dist-packages/pydantic/_internal/_generate_schema.py:502: UserWarning: <built-in function callable> is not a Python type (it may be an instance of an object), Pydantic will allow any object with no validation since we cannot even enforce that the input is an instance of the given type. To get rid of this error wrap the type with `pydantic.SkipValidation`.\n",
            "  warn(\n",
            "/usr/local/lib/python3.11/dist-packages/crewai_tools/tools/scrapegraph_scrape_tool/scrapegraph_scrape_tool.py:34: PydanticDeprecatedSince20: Pydantic V1 style `@validator` validators are deprecated. You should migrate to Pydantic V2 style `@field_validator` validators, see the migration guide for more details. Deprecated in Pydantic V2.0 to be removed in V3.0. See Pydantic V2 Migration Guide at https://errors.pydantic.dev/2.10/migration/\n",
            "  @validator(\"website_url\")\n",
            "/usr/local/lib/python3.11/dist-packages/crewai_tools/tools/selenium_scraping_tool/selenium_scraping_tool.py:26: PydanticDeprecatedSince20: Pydantic V1 style `@validator` validators are deprecated. You should migrate to Pydantic V2 style `@field_validator` validators, see the migration guide for more details. Deprecated in Pydantic V2.0 to be removed in V3.0. See Pydantic V2 Migration Guide at https://errors.pydantic.dev/2.10/migration/\n",
            "  @validator(\"website_url\")\n",
            "/usr/local/lib/python3.11/dist-packages/crewai_tools/tools/vision_tool/vision_tool.py:15: PydanticDeprecatedSince20: Pydantic V1 style `@validator` validators are deprecated. You should migrate to Pydantic V2 style `@field_validator` validators, see the migration guide for more details. Deprecated in Pydantic V2.0 to be removed in V3.0. See Pydantic V2 Migration Guide at https://errors.pydantic.dev/2.10/migration/\n",
            "  @validator(\"image_path_url\")\n"
          ]
        }
      ]
    },
    {
      "cell_type": "code",
      "source": [
        "# !pip install --upgrade chromadb"
      ],
      "metadata": {
        "id": "gKgvcTT27O75"
      },
      "execution_count": null,
      "outputs": []
    },
    {
      "cell_type": "code",
      "source": [
        "os.environ['OPENAI_API_KEY'] = userdata.get('PHI_Tier2_ChineseChatbot_Project')\n",
        "llm = ChatOpenAI(model=\"gpt-4o\")"
      ],
      "metadata": {
        "id": "wAGEu5OIwFui"
      },
      "execution_count": 3,
      "outputs": []
    },
    {
      "cell_type": "code",
      "source": [
        "pdf_path = 'knowledge/华人活动.pdf'\n",
        "pdf_search_tool = PDFSearchTool(pdf=pdf_path)"
      ],
      "metadata": {
        "colab": {
          "base_uri": "https://localhost:8080/"
        },
        "id": "QGY0kOwX6t2A",
        "outputId": "81b82c5d-b8a8-4666-d0df-24efb73171f1"
      },
      "execution_count": 48,
      "outputs": [
        {
          "output_type": "stream",
          "name": "stderr",
          "text": [
            "Inserting batches in chromadb: 100%|██████████| 1/1 [00:01<00:00,  1.07s/it]\n"
          ]
        }
      ]
    },
    {
      "cell_type": "code",
      "source": [
        "response_critic_knowledge_base = Agent(\n",
        "  role='基于知识库的评估专家',\n",
        "  goal=\"\"\"根据客户的输入内容，\"{client_message}\" ，评估心理顾问的回复：\"{therapist_response}\"。使用来自 {pdf_paths} 的知识库，识别缺失的文化元素。\"\"\",\n",
        "  backstory=\"\"\"凭借对{cultural_background}的深刻理解和对全面知识库的访问，您专注于评估心理顾问的回复，确保其反应了{cultural_background}背景。\"\"\",\n",
        "  verbose=True,\n",
        "  allow_delegation=False,\n",
        "  llm = llm,\n",
        "  tools=[pdf_search_tool]\n",
        ")\n",
        "response_adapter = Agent(\n",
        "  role='文化背景融合专家',\n",
        "  goal='修改心理顾问的回复, \"{therapist_response}\"，使其融入缺失的文化元素。',\n",
        "  backstory=\"\"\"作为文化背景融合专家，您擅长根据特定的文化背景定制沟通内容，确保心理顾问的回复既既保留了心理顾问的专业性又有效融入了文化元素。\"\"\",\n",
        "  verbose=True,\n",
        "  allow_delegation=False,\n",
        "  llm = llm,\n",
        "  tools=[]\n",
        ")\n",
        "critique_therapist_response_knowledge_base_task = Task(\n",
        "  description=\"\"\"使用 PDFSearchTool 访问 {pdf_paths}。结合客户的输入内容, \"{client_message}\"，评估当前心理顾问的回复 \"{therapist_response}\"。\n",
        "  识别和客户的输入或和心理顾问的回复相关的文化元素并提供改进建议。\"\"\",\n",
        "  expected_output=\"\"\"一份中文评估报告，指出当前心理顾问的回复， \"{therapist_response}\"， 中缺失的文化元素，并附上改进建议。\"\"\",\n",
        "  async_execution=False,\n",
        "  agent=response_critic_knowledge_base\n",
        ")\n",
        "adapt_therapist_response = Task(\n",
        "  description=\"\"\"根据评估报告以及客户的输入内容 \"{client_message}\" ，修改心理顾问的回复 \"{therapist_response}\"。\n",
        "  定制心理顾问的回复，确保其保留了原心理顾问的意图并且符合客户的文化背景。仅输出调整后的回应。\"\"\",\n",
        "  expected_output=\"\"\"调整后的心理顾问回复，应保留原心理顾问回复中的意图并且更加符合客户的文化背景。\"\"\",\n",
        "  async_execution=False,\n",
        "  agent=response_adapter,\n",
        "  context=[critique_therapist_response_knowledge_base_task]\n",
        ")"
      ],
      "metadata": {
        "id": "jagHOVQkwmMA"
      },
      "execution_count": 49,
      "outputs": []
    },
    {
      "cell_type": "code",
      "source": [],
      "metadata": {
        "id": "V3O_HrUyxigQ"
      },
      "execution_count": 49,
      "outputs": []
    },
    {
      "cell_type": "code",
      "source": [
        "\n",
        "culture = \"中国文化\"\n",
        "# client_message = \"'I am stressed and constantly sense of responsibility to respect and care for aging parents'\"\n",
        "client_message = \"家人对我有很多要求和期望，但从来没有人关心过我，问过我想要什么样的生活。\"\n",
        "# therapist_response = \"'I understand how you feel, it could be the sense of obligation that is causing you the stress.'\"\n",
        "therapist_response = \"听起来你正在承受着很大的压力，而没有得到应有的关注和支持。你有尝试过一些放松的活动，比如听音乐或者做瑜伽吗？\"\n"
      ],
      "metadata": {
        "id": "KhN106HByyXp"
      },
      "execution_count": 50,
      "outputs": []
    },
    {
      "cell_type": "code",
      "source": [
        "inputs={'cultural_background': culture,\n",
        "        'client_message': client_message,\n",
        "        'therapist_response': therapist_response,\n",
        "        'pdf_paths': pdf_path}"
      ],
      "metadata": {
        "id": "w97L6p1Z5kI1"
      },
      "execution_count": 51,
      "outputs": []
    },
    {
      "cell_type": "code",
      "source": [
        "# Instantiate your crew with a sequential process\n",
        "crew = Crew(\n",
        "  agents=[response_critic_knowledge_base, response_adapter],\n",
        "  tasks=[critique_therapist_response_knowledge_base_task, adapt_therapist_response],\n",
        "  verbose=False, # You can set it to 1 or 2 to different logging levels\n",
        ")"
      ],
      "metadata": {
        "colab": {
          "base_uri": "https://localhost:8080/"
        },
        "id": "Pb5pc0HdyPQ7",
        "outputId": "4474860a-dabb-439a-b7f6-e14c1f1b8f7d"
      },
      "execution_count": 52,
      "outputs": [
        {
          "output_type": "stream",
          "name": "stderr",
          "text": [
            "WARNING:opentelemetry.trace:Overriding of current TracerProvider is not allowed\n"
          ]
        }
      ]
    },
    {
      "cell_type": "code",
      "source": [
        "crew"
      ],
      "metadata": {
        "colab": {
          "base_uri": "https://localhost:8080/"
        },
        "id": "yD1vCh_jyXLr",
        "outputId": "03108858-49f7-40d6-a390-d87603fb543d"
      },
      "execution_count": 53,
      "outputs": [
        {
          "output_type": "execute_result",
          "data": {
            "text/plain": [
              "Crew(id=85377c2b-165e-484f-9a82-f9138b820746, process=Process.sequential, number_of_agents=2, number_of_tasks=2)"
            ]
          },
          "metadata": {},
          "execution_count": 53
        }
      ]
    },
    {
      "cell_type": "code",
      "source": [
        "result = crew.kickoff(inputs=inputs)"
      ],
      "metadata": {
        "colab": {
          "base_uri": "https://localhost:8080/"
        },
        "id": "F9gIott2yXpO",
        "outputId": "dbbd688b-d30e-49f3-e2f6-72fdda4f2fec"
      },
      "execution_count": 54,
      "outputs": [
        {
          "output_type": "stream",
          "name": "stdout",
          "text": [
            "\u001b[1m\u001b[95m# Agent:\u001b[00m \u001b[1m\u001b[92m基于知识库的评估专家\u001b[00m\n",
            "\u001b[95m## Task:\u001b[00m \u001b[92m使用 PDFSearchTool 访问 knowledge/华人活动.pdf。结合客户的输入内容, \"家人对我有很多要求和期望，但从来没有人关心过我，问过我想要什么样的生活。\"，评估当前心理顾问的回复 \"听起来你正在承受着很大的压力，而没有得到应有的关注和支持。你有尝试过一些放松的活动，比如听音乐或者做瑜伽吗？\"。\n",
            "  识别和客户的输入或和心理顾问的回复相关的文化元素并提供改进建议。\u001b[00m\n",
            "\n",
            "\n",
            "\u001b[1m\u001b[95m# Agent:\u001b[00m \u001b[1m\u001b[92m基于知识库的评估专家\u001b[00m\n",
            "\u001b[95m## Using tool:\u001b[00m \u001b[92mSearch a PDF's content\u001b[00m\n",
            "\u001b[95m## Tool Input:\u001b[00m \u001b[92m\n",
            "\"{\\\"query\\\": \\\"family expectations support relaxation activities Chinese culture\\\"}\"\u001b[00m\n",
            "\u001b[95m## Tool Output:\u001b[00m \u001b[92m\n",
            "Relevant Content:\n",
            "社 交 活 动 一、 传 统 节 庆 与 家 庭 聚 会 1. 节 日 聚 餐 ○ 适 用 群 体 ： 全 体 华 人 家 庭 （尤 其 注 重 传 统 的 中 老 年 人 与 多 代 同 堂 家 庭） ○ 理 由 ： 通 过 共 享 节 日 仪 式 感 强 化 家 族 认 同 ， 满 足 “ 团 圆 ” 情 感 需 求 ， 符 合 儒 家 “ 家 和 万 事 兴 ” 价 值 观。 2. 祭 祀 与 宗 族 活 动 ○ 适 用 群 体 ： 宗 族 观 念 强 的 群 体 （如 南 方 宗 亲 会 成 员、 海 外 华 人 寻 根 群 体） ○ 理 由 ： 通 过 祭 祖 维 系 血 缘 纽 带 ， 增 强 家 族 归 属 感 ， 尤 其 在 移 民 群 体 中 可 缓 解 文 化 断 层 焦 虑。 二、 饮 食 文 化 为 核 心 的 社 交 1. 茶 楼 饮 早 茶 / 下 午 茶 ○ 适 用 群 体 ： 中 老 年 人、 商 务 人 士、 家 庭 主 妇 ○ 理 由 ： 以 茶 点 为 媒 介 的 “ 慢 社 交 ” 符 合 华 人 “ 饭 局 谈 事 ” 习 惯 ， 非 正 式 场 合 降 低 沟 通 压 力。 2. 夜 市 与 大 排 档 聚 餐 ○ 适 用 群 体 ： 年 轻 人、 工 薪 阶 层、 夜 生 活 爱 好 者 ○ 理 由 ： 烟 火 气 的 开 放 环 境 契 合 华 人 “ 热 闹 即 人 情 ” 的 社 交 偏 好 ， 消 费 门 槛 低 且 氛 围 轻 松。 3. 家 庭 厨 房 社 交 ○ 适 用 群 体 ： 亲 密 朋 友 圈、 邻 里 社 区 ○ 理 由 ： 在 家 中 款 待 体 现 信 任 与 亲 近 ， “ 亲 手 做 饭 ” 传 递 诚 意 ， 符 合 “ 人 情 往 来 ” 的 互 惠 原 则。 三、 休 闲 娱 乐 与 团 体 活 动 1. 棋 牌 与 桌 游 ○ 适 用 群 体 ： 中 老 年 人 （ 传 统 棋 牌）、 年 轻 人 （ 现 代 桌 游） ○ 理 由 ： 游 戏 规 则 明 确 易 参 与 ， 集 体 协 作 或 竞 争 模 式 暗 合 华 人 “ 群 体 优 先 ” 思 维 ， 兼 具 娱 乐 与 益 智。 2. 广 场 舞 与 健 身 活 动\n",
            "\n",
            "○ 适 用 群 体 ： 退 休 中 老 年 人 （女 性 为 主） ○ 理 由 ： 集 体 活 动 缓 解 孤 独 感 ， 低 成 本 健 身 同 时 满 足 社 交 需 求 ， 符 合 “ 养 生 文 化 ” 与 集 体 归 属 感。 3. KTV 与 怀 旧 金 曲 ○ 适 用 群 体 ： 70-90 后 职 场 人 群、 同 学 聚 会 ○ 理 由 ： 通 过 合 唱 经 典 歌 曲 引 发 情 感 共 鸣 ， 封 闭 包 厢 环 境 降 低 社 交 拘 束 感 ， 适 合 释 放 压 力。 四、 文 化 与 教 育 相 关 活 动 1. 传 统 文 化 体 验 ○ 适 用 群 体 ： 高 知 群 体、 传 统 文 化 爱 好 者、 海 外 华 裔 二 代 ○ 理 由 ： 通 过 文 化 实 践 增 强 身 份 认 同 ， 对 海 外 华 人 可 帮 助 后 代 连 接 文 化 根 源 ， 本 土 群 体 则 满 足 文 化 自 豪 感。 2. 亲 子 教 育 活 动 ○ 适 用 群 体 ： 中 产 家 庭、 重 视 教 育 的 父 母 ○ 理 由 ： 将 社 交 与 子 女 教 育 结 合 ， 符 合 华 人 “ 望 子 成 龙 ” 心 态 ， 同 时 建 立 家 长 间 的 资 源 互 助 网 络。 3. 读 书 会 与 讲 座 ○ 适 用 群 体 ： 白 领、 创 业 者、 学 生 ○ 理 由 ： 知 识 分 享 符 合 华 人 “ 实 用 主 义 ” 倾 向 ， 活 动 主 题 （如 理 财、 升 学） 直 接 关 联 现 实 需 求。 五、 现 代 社 交 与 商 业 网 络 1. 商 会 与 行 业 交 流 会 ○ 适 用 群 体 ： 企 业 家、 海 外 华 人 创 业 者 ○ 理 由 ： 依 托 乡 缘 或 行 业 纽 带 建 立 信 任 ， 降 低 合 作 风 险 ， 符 合 华 人 “ 关 系 网 （ Guanxi ） ” 商 业 逻 辑。 2. 婚 恋 相 亲 活 动 ○ 适 用 群 体 ： 适 婚 青 年 （尤 其 一 线 城 市 “ 剩 男 剩 女 ” ）、 代 际 家 长 ○ 理 由 ： 解 决 传 统 家 庭 对 婚 姻 的 迫 切 期 待 ， 集 体 相 亲 模 式 减 少 个 人 直 接 拒 绝 的 尴 尬。 六、 社 区 参\n",
            "\n",
            "1. 散 步 / 快 走 ○ 适 合 群 体 ： 全 年 龄 段 ， 尤 其 是 老 年 人 和 孕 产 妇 ○ 理 由 ： ■ 融 入 日 常 生 活 （如 饭 后 遛 弯、 通 勤 步 行） ， 无 需 刻 意 规 划。 ■ 降 低 心 血 管 疾 病 风 险 ， 符 合 “ 日 行 万 步 ” 的 健 康 观 念。 2. 居 家 健 身 （瑜 伽、 健 身 操） ○ 适 合 群 体 ： 年 轻 上 班 族、 宝 妈 ○ 理 由 ： ■ 利 用 短 视 频 平 台 （如 抖 音、 B 站） 跟 练 ， 时 间 灵 活。 ■ 瑜 伽 兼 顾 减 压 和 塑 形 ， 适 合 “ 碎 片 化 运 动 ” 需 求。 3. 登 山 / 徒 步 ○ 适 合 群 体 ： 自 然 爱 好 者、 家 庭 周 末 游 ○ 理 由 ： ■ 华 人 文 化 中 推 崇 “ 山 水 养 生 ” ， 如 重 阳 登 高 习 俗。 ■ 结 合 旅 游 和 运 动 ， 适 合 节 假 日 家 庭 活 动。 四、 特 殊 场 景 推 荐 ● 海 外 华 人 社 区 ： ○ 组 织 太 极 班、 广 场 舞 团 ， 既 健 身 又 维 系 文 化 纽 带。 ○ 利 用 当 地 公 园 开 展 集 体 晨 练 ， 复 刻 国 内 氛 围。 ● 年 轻 一 代 ： ○ 尝 试 “ 国 潮 健 身 ” ， 如 汉 服 舞 蹈、 功 夫 健 身 操 ， 融 合 传 统 与 现 代。 放 松 活 动 一、 传 统 养 生 类 ： 静 心 养 气 1. 茶 道 与 品 茗 ○ 适 合 场 景 ： 独 处 放 松、 亲 友 小 聚 ○ 理 由 ： ■ 茶 文 化 深 植 华 人 生 活 ， 从 备 茶、 冲 泡 到 品 饮 ， 过 程 本 身 具 有 仪 式 感 ， 帮 助 专 注 当 下。 ■ 绿 茶、 普 洱 等 茶 种 含 茶 氨 酸 ， 可 缓 解 焦 虑 ， 契 合 “ 以 茶 养 心 ” 的 传 统 理 念。 2. 书 法 或 国 画\u001b[00m\n",
            "\n",
            "\n",
            "\u001b[1m\u001b[95m# Agent:\u001b[00m \u001b[1m\u001b[92m基于知识库的评估专家\u001b[00m\n",
            "\u001b[95m## Final Answer:\u001b[00m \u001b[92m\n",
            "当前心理顾问的回复中缺少了一些与中国文化背景相关的元素。尽管建议了放松活动如听音乐和做瑜伽，但这些活动主要是现代和西方文化中的常见选择。根据知识库，传统的中国放松活动可以包括茶道与品茗、书法或国画，这些活动不仅有放松作用，还能帮助专注当下，符合中国文化中“以茶养心”和“静心养气”的传统理念。此外，家庭和社交活动如节日聚餐、家庭厨房社交等可以帮助增强家庭认同感和归属感，这对于缓解客户所描述的家庭期望压力可能更为有效。\n",
            "\n",
            "改进建议：\n",
            "1. 在建议放松活动时，结合中国传统文化背景，推荐茶道、书法或国画等活动，可以帮助客户在文化认同中找到内心的平和。\n",
            "2. 鼓励客户通过家庭聚餐或参与传统节庆活动来加强与家人的沟通和情感联系，从而在家庭期望与个人需求之间找到平衡。\n",
            "3. 引导客户理解“家和万事兴”的价值观念，探讨如何在家庭期望中融入个人的生活愿望，为自己争取更多的支持和理解。\n",
            "```\u001b[00m\n",
            "\n",
            "\n",
            "\u001b[1m\u001b[95m# Agent:\u001b[00m \u001b[1m\u001b[92m文化背景融合专家\u001b[00m\n",
            "\u001b[95m## Task:\u001b[00m \u001b[92m根据评估报告以及客户的输入内容 \"家人对我有很多要求和期望，但从来没有人关心过我，问过我想要什么样的生活。\" ，修改心理顾问的回复 \"听起来你正在承受着很大的压力，而没有得到应有的关注和支持。你有尝试过一些放松的活动，比如听音乐或者做瑜伽吗？\"。\n",
            "  定制心理顾问的回复，确保其保留了原心理顾问的意图并且符合客户的文化背景。仅输出调整后的回应。\u001b[00m\n",
            "\n",
            "\n",
            "\u001b[1m\u001b[95m# Agent:\u001b[00m \u001b[1m\u001b[92m文化背景融合专家\u001b[00m\n",
            "\u001b[95m## Final Answer:\u001b[00m \u001b[92m\n",
            "听起来你正在承受着很大的压力，而没有得到应有的关注和支持。也许你可以尝试一些融入传统文化的放松活动，例如茶道、书法或者国画，这些活动能够帮助你在文化认同中找到内心的平和。此外，通过家庭聚餐或者参与传统节庆活动，你也许能够加强与家人的沟通和情感联系，从而找到在家庭期望与个人需求之间的平衡。我们可以一起探讨如何在家庭期望中融入你的生活愿望，为自己争取更多的支持和理解。\u001b[00m\n",
            "\n",
            "\n"
          ]
        }
      ]
    },
    {
      "cell_type": "code",
      "source": [],
      "metadata": {
        "id": "z-aN44fVyaz-"
      },
      "execution_count": 54,
      "outputs": []
    }
  ]
}