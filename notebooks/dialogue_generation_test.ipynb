{
  "nbformat": 4,
  "nbformat_minor": 0,
  "metadata": {
    "colab": {
      "provenance": [],
      "authorship_tag": "ABX9TyOVVq4cv2+LS6/JCaIyqfV5",
      "include_colab_link": true
    },
    "kernelspec": {
      "name": "python3",
      "display_name": "Python 3"
    },
    "language_info": {
      "name": "python"
    }
  },
  "cells": [
    {
      "cell_type": "markdown",
      "metadata": {
        "id": "view-in-github",
        "colab_type": "text"
      },
      "source": [
        "<a href=\"https://colab.research.google.com/github/sjcxie/Culturally-Adapted-Psychotherapy-Chatbot/blob/master/dialogue_generation_test.ipynb\" target=\"_parent\"><img src=\"https://colab.research.google.com/assets/colab-badge.svg\" alt=\"Open In Colab\"/></a>"
      ]
    },
    {
      "cell_type": "code",
      "execution_count": 1,
      "metadata": {
        "colab": {
          "base_uri": "https://localhost:8080/"
        },
        "id": "a4ppiUn9CDub",
        "outputId": "95bd484c-6fb7-4bf2-b9f6-7ba69bb17505"
      },
      "outputs": [
        {
          "output_type": "stream",
          "name": "stdout",
          "text": [
            "Requirement already satisfied: openai in /usr/local/lib/python3.10/dist-packages (1.16.1)\n",
            "Requirement already satisfied: anyio<5,>=3.5.0 in /usr/local/lib/python3.10/dist-packages (from openai) (3.7.1)\n",
            "Requirement already satisfied: distro<2,>=1.7.0 in /usr/lib/python3/dist-packages (from openai) (1.7.0)\n",
            "Requirement already satisfied: httpx<1,>=0.23.0 in /usr/local/lib/python3.10/dist-packages (from openai) (0.27.0)\n",
            "Requirement already satisfied: pydantic<3,>=1.9.0 in /usr/local/lib/python3.10/dist-packages (from openai) (2.6.4)\n",
            "Requirement already satisfied: sniffio in /usr/local/lib/python3.10/dist-packages (from openai) (1.3.1)\n",
            "Requirement already satisfied: tqdm>4 in /usr/local/lib/python3.10/dist-packages (from openai) (4.66.2)\n",
            "Requirement already satisfied: typing-extensions<5,>=4.7 in /usr/local/lib/python3.10/dist-packages (from openai) (4.10.0)\n",
            "Requirement already satisfied: idna>=2.8 in /usr/local/lib/python3.10/dist-packages (from anyio<5,>=3.5.0->openai) (3.6)\n",
            "Requirement already satisfied: exceptiongroup in /usr/local/lib/python3.10/dist-packages (from anyio<5,>=3.5.0->openai) (1.2.0)\n",
            "Requirement already satisfied: certifi in /usr/local/lib/python3.10/dist-packages (from httpx<1,>=0.23.0->openai) (2024.2.2)\n",
            "Requirement already satisfied: httpcore==1.* in /usr/local/lib/python3.10/dist-packages (from httpx<1,>=0.23.0->openai) (1.0.5)\n",
            "Requirement already satisfied: h11<0.15,>=0.13 in /usr/local/lib/python3.10/dist-packages (from httpcore==1.*->httpx<1,>=0.23.0->openai) (0.14.0)\n",
            "Requirement already satisfied: annotated-types>=0.4.0 in /usr/local/lib/python3.10/dist-packages (from pydantic<3,>=1.9.0->openai) (0.6.0)\n",
            "Requirement already satisfied: pydantic-core==2.16.3 in /usr/local/lib/python3.10/dist-packages (from pydantic<3,>=1.9.0->openai) (2.16.3)\n"
          ]
        }
      ],
      "source": [
        "!pip install openai"
      ]
    },
    {
      "cell_type": "code",
      "source": [
        "import warnings\n",
        "warnings.filterwarnings('ignore')"
      ],
      "metadata": {
        "id": "Hl2DQ9aEcOi2"
      },
      "execution_count": 9,
      "outputs": []
    },
    {
      "cell_type": "code",
      "source": [
        "import os\n",
        "import openai\n",
        "from openai import AzureOpenAI\n",
        "from google.colab import userdata"
      ],
      "metadata": {
        "id": "1p00RSkjEKMh"
      },
      "execution_count": 10,
      "outputs": []
    },
    {
      "cell_type": "markdown",
      "source": [
        "# OpenAI Set up"
      ],
      "metadata": {
        "id": "E3hL17TJQ1ak"
      }
    },
    {
      "cell_type": "code",
      "source": [
        "os.environ['AZURE_OPENAI_API_KEY']= userdata.get('AZURE_OPENAI_API_KEY')\n",
        "os.environ['AZURE_OPENAI_ENDPOINT']= userdata.get('AZURE_OPENAI_ENDPOINT')\n",
        "os.environ['GPT4_DEPLOYMENT_NAME']= userdata.get('GPT4_DEPLOYMENT_NAME')"
      ],
      "metadata": {
        "id": "pTzfjmzhCF-G"
      },
      "execution_count": 11,
      "outputs": []
    },
    {
      "cell_type": "code",
      "source": [
        "model4 = os.getenv(\"GPT4_DEPLOYMENT_NAME\")\n",
        "model3_5 = 'multilingual35turboexp'"
      ],
      "metadata": {
        "id": "vSLPzG23sAzk"
      },
      "execution_count": 18,
      "outputs": []
    },
    {
      "cell_type": "code",
      "source": [
        "client = AzureOpenAI(\n",
        "    api_key=os.getenv(\"AZURE_OPENAI_API_KEY\"),\n",
        "    api_version=\"2024-02-15-preview\",\n",
        "    azure_endpoint = os.getenv(\"AZURE_OPENAI_ENDPOINT\")\n",
        "    )"
      ],
      "metadata": {
        "id": "sANzwth6Pshj"
      },
      "execution_count": 17,
      "outputs": []
    },
    {
      "cell_type": "markdown",
      "source": [
        "# Chat Completion"
      ],
      "metadata": {
        "id": "Bx-Z6KbaQ6Ku"
      }
    },
    {
      "cell_type": "markdown",
      "source": [
        "## using client.chat.completions.create"
      ],
      "metadata": {
        "id": "KKV9LTnJTFJ6"
      }
    },
    {
      "cell_type": "code",
      "source": [],
      "metadata": {
        "id": "6D0aNMwusZY3"
      },
      "execution_count": null,
      "outputs": []
    },
    {
      "cell_type": "code",
      "source": [
        "def get_completion_from_messages(messages, model=model3_5, temperature=0.5):\n",
        "    response = client.chat.completions.create(\n",
        "        model=model,\n",
        "        messages=messages,\n",
        "        temperature=temperature, # this is the degree of randomness of the model's output\n",
        "    )\n",
        "    return response.choices[0].message.content"
      ],
      "metadata": {
        "id": "IXB2MxIXQtBM"
      },
      "execution_count": 49,
      "outputs": []
    },
    {
      "cell_type": "code",
      "source": [
        "messages =  [\n",
        "{'role':'system', 'content':\"Your responsibility is to guide the conversation with a caregiver through the principles of Problem-\\\n",
        "Solving Therapy (PST) to improve one significant symptom the caregiver is experiencing. You will\\\n",
        "ask open-ended questions to identify and assess their challenges and stressors and improve their self-\\\n",
        "care. Avoid focusing on the care receiver. Remember, your job is to help the caregiver\"},\n",
        "{'role':'user', 'content':'hello'},\n",
        "{'role':'assistant', 'content':'How are you doing today?'},\n",
        "{'role':'user', 'content':'I don\\'t know'},\n",
        "]"
      ],
      "metadata": {
        "id": "9K-fcqf6RPoS"
      },
      "execution_count": 50,
      "outputs": []
    },
    {
      "cell_type": "code",
      "source": [
        "response = get_completion_from_messages(messages, model=model3_5, temperature=0.5)\n",
        "print(response)"
      ],
      "metadata": {
        "colab": {
          "base_uri": "https://localhost:8080/"
        },
        "id": "7MhpXHR9RQ18",
        "outputId": "cd37ff38-e275-46ec-efc6-0ecdeff02718"
      },
      "execution_count": 51,
      "outputs": [
        {
          "output_type": "stream",
          "name": "stdout",
          "text": [
            "That's okay. Can you tell me a little bit about what's been going on lately?\n"
          ]
        }
      ]
    },
    {
      "cell_type": "code",
      "source": [
        "messages.append({'role':'assistant', 'content':response})"
      ],
      "metadata": {
        "id": "Y__a52xpbuT3"
      },
      "execution_count": 52,
      "outputs": []
    },
    {
      "cell_type": "code",
      "source": [
        "response = get_completion_from_messages(messages, model=model3_5, temperature=0.5)\n",
        "print(response)"
      ],
      "metadata": {
        "colab": {
          "base_uri": "https://localhost:8080/"
        },
        "id": "woi5qQmkq9VV",
        "outputId": "e0a25a1f-d7a2-49cf-8e24-65e58863c59f"
      },
      "execution_count": 53,
      "outputs": [
        {
          "output_type": "stream",
          "name": "stdout",
          "text": [
            "As a caregiver, what are some of the challenges you have been facing recently?\n"
          ]
        }
      ]
    },
    {
      "cell_type": "code",
      "source": [
        "messages"
      ],
      "metadata": {
        "colab": {
          "base_uri": "https://localhost:8080/"
        },
        "id": "nGFe4Hi9t1Yg",
        "outputId": "f70f46ac-e6c1-4d91-dff3-143b3a86db22"
      },
      "execution_count": 54,
      "outputs": [
        {
          "output_type": "execute_result",
          "data": {
            "text/plain": [
              "[{'role': 'system',\n",
              "  'content': 'Your responsibility is to guide the conversation with a caregiver through the principles of Problem-Solving Therapy (PST) to improve one significant symptom the caregiver is experiencing. You willask open-ended questions to identify and assess their challenges and stressors and improve their self-care. Avoid focusing on the care receiver. Remember, your job is to help the caregiver'},\n",
              " {'role': 'user', 'content': 'hello'},\n",
              " {'role': 'assistant', 'content': 'How are you doing today?'},\n",
              " {'role': 'user', 'content': \"I don't know\"},\n",
              " {'role': 'assistant',\n",
              "  'content': \"That's okay. Can you tell me a little bit about what's been going on lately?\"}]"
            ]
          },
          "metadata": {},
          "execution_count": 54
        }
      ]
    },
    {
      "cell_type": "code",
      "source": [],
      "metadata": {
        "id": "5SORx5GvvbMQ"
      },
      "execution_count": null,
      "outputs": []
    }
  ]
}